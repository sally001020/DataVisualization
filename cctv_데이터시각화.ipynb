{
  "cells": [
    {
      "cell_type": "markdown",
      "metadata": {
        "id": "view-in-github",
        "colab_type": "text"
      },
      "source": [
        "<a href=\"https://colab.research.google.com/github/sally001020/DataVisualization/blob/main/cctv_%EB%8D%B0%EC%9D%B4%ED%84%B0%EC%8B%9C%EA%B0%81%ED%99%94.ipynb\" target=\"_parent\"><img src=\"https://colab.research.google.com/assets/colab-badge.svg\" alt=\"Open In Colab\"/></a>"
      ]
    },
    {
      "cell_type": "markdown",
      "id": "fd8d7be5",
      "metadata": {
        "id": "fd8d7be5"
      },
      "source": [
        "# CCTV 데이터 시각화 \n"
      ]
    },
    {
      "cell_type": "markdown",
      "id": "34fa6561",
      "metadata": {
        "id": "34fa6561"
      },
      "source": [
        "## 1. 라이브러리 임포트"
      ]
    },
    {
      "cell_type": "code",
      "execution_count": null,
      "id": "f78d1ff0",
      "metadata": {
        "id": "f78d1ff0"
      },
      "outputs": [],
      "source": [
        "import pandas as pd\n",
        "import altair as alt"
      ]
    },
    {
      "cell_type": "markdown",
      "id": "a7165abd",
      "metadata": {
        "id": "a7165abd"
      },
      "source": [
        "## 2. 데이터 적재"
      ]
    },
    {
      "cell_type": "code",
      "execution_count": null,
      "id": "2be27850",
      "metadata": {
        "id": "2be27850",
        "outputId": "e79f82ef-a65c-4291-d286-ca85ff0a0f65"
      },
      "outputs": [
        {
          "data": {
            "text/html": [
              "<div>\n",
              "<style scoped>\n",
              "    .dataframe tbody tr th:only-of-type {\n",
              "        vertical-align: middle;\n",
              "    }\n",
              "\n",
              "    .dataframe tbody tr th {\n",
              "        vertical-align: top;\n",
              "    }\n",
              "\n",
              "    .dataframe thead th {\n",
              "        text-align: right;\n",
              "    }\n",
              "</style>\n",
              "<table border=\"1\" class=\"dataframe\">\n",
              "  <thead>\n",
              "    <tr style=\"text-align: right;\">\n",
              "      <th></th>\n",
              "      <th>no</th>\n",
              "      <th>id</th>\n",
              "      <th>자치구</th>\n",
              "      <th>CCTV_규모_2015</th>\n",
              "      <th>CCTV_규모_2020</th>\n",
              "      <th>인구_규모_2015</th>\n",
              "      <th>인구_규모_2020</th>\n",
              "    </tr>\n",
              "  </thead>\n",
              "  <tbody>\n",
              "    <tr>\n",
              "      <th>5</th>\n",
              "      <td>2</td>\n",
              "      <td>6</td>\n",
              "      <td>동대문구</td>\n",
              "      <td>1436</td>\n",
              "      <td>2315</td>\n",
              "      <td>373824</td>\n",
              "      <td>357014</td>\n",
              "    </tr>\n",
              "    <tr>\n",
              "      <th>0</th>\n",
              "      <td>6</td>\n",
              "      <td>1</td>\n",
              "      <td>종로구</td>\n",
              "      <td>1175</td>\n",
              "      <td>1729</td>\n",
              "      <td>163822</td>\n",
              "      <td>158996</td>\n",
              "    </tr>\n",
              "    <tr>\n",
              "      <th>24</th>\n",
              "      <td>12</td>\n",
              "      <td>25</td>\n",
              "      <td>강동구</td>\n",
              "      <td>725</td>\n",
              "      <td>2547</td>\n",
              "      <td>463321</td>\n",
              "      <td>463998</td>\n",
              "    </tr>\n",
              "    <tr>\n",
              "      <th>4</th>\n",
              "      <td>13</td>\n",
              "      <td>5</td>\n",
              "      <td>광진구</td>\n",
              "      <td>477</td>\n",
              "      <td>2556</td>\n",
              "      <td>375180</td>\n",
              "      <td>360109</td>\n",
              "    </tr>\n",
              "    <tr>\n",
              "      <th>18</th>\n",
              "      <td>23</td>\n",
              "      <td>19</td>\n",
              "      <td>영등포구</td>\n",
              "      <td>1278</td>\n",
              "      <td>3773</td>\n",
              "      <td>417811</td>\n",
              "      <td>407367</td>\n",
              "    </tr>\n",
              "  </tbody>\n",
              "</table>\n",
              "</div>"
            ],
            "text/plain": [
              "    no  id   자치구  CCTV_규모_2015  CCTV_규모_2020  인구_규모_2015  인구_규모_2020\n",
              "5    2   6  동대문구          1436          2315      373824      357014\n",
              "0    6   1   종로구          1175          1729      163822      158996\n",
              "24  12  25   강동구           725          2547      463321      463998\n",
              "4   13   5   광진구           477          2556      375180      360109\n",
              "18  23  19  영등포구          1278          3773      417811      407367"
            ]
          },
          "execution_count": 2,
          "metadata": {},
          "output_type": "execute_result"
        }
      ],
      "source": [
        "# cctv 및 인구 데이터 적재 및 확인\n",
        "df = pd.read_csv(\"https://raw.githubusercontent.com/logistex/vd21/main/cctv_with_pop.csv\", engine='python')\n",
        "df.sample(5)"
      ]
    },
    {
      "cell_type": "code",
      "execution_count": null,
      "id": "16a84999",
      "metadata": {
        "id": "16a84999",
        "outputId": "52906d8e-f249-40be-a950-989d826e2b1c"
      },
      "outputs": [
        {
          "data": {
            "text/html": [
              "<div>\n",
              "<style scoped>\n",
              "    .dataframe tbody tr th:only-of-type {\n",
              "        vertical-align: middle;\n",
              "    }\n",
              "\n",
              "    .dataframe tbody tr th {\n",
              "        vertical-align: top;\n",
              "    }\n",
              "\n",
              "    .dataframe thead th {\n",
              "        text-align: right;\n",
              "    }\n",
              "</style>\n",
              "<table border=\"1\" class=\"dataframe\">\n",
              "  <thead>\n",
              "    <tr style=\"text-align: right;\">\n",
              "      <th></th>\n",
              "      <th>자치구</th>\n",
              "      <th>자치구청</th>\n",
              "      <th>위도</th>\n",
              "      <th>경도</th>\n",
              "      <th>주소</th>\n",
              "    </tr>\n",
              "  </thead>\n",
              "  <tbody>\n",
              "    <tr>\n",
              "      <th>6</th>\n",
              "      <td>중랑구</td>\n",
              "      <td>중랑구청</td>\n",
              "      <td>37.606560</td>\n",
              "      <td>127.092624</td>\n",
              "      <td>대한민국 서울특별시 중랑구 신내동 662</td>\n",
              "    </tr>\n",
              "    <tr>\n",
              "      <th>21</th>\n",
              "      <td>서초구</td>\n",
              "      <td>서초구청</td>\n",
              "      <td>37.483574</td>\n",
              "      <td>127.032661</td>\n",
              "      <td>대한민국 서울특별시 서초구 서초2동 남부순환로 2584</td>\n",
              "    </tr>\n",
              "    <tr>\n",
              "      <th>4</th>\n",
              "      <td>광진구</td>\n",
              "      <td>광진구청</td>\n",
              "      <td>37.538533</td>\n",
              "      <td>127.082377</td>\n",
              "      <td>대한민국 서울특별시 광진구 자양1동 자양로 117</td>\n",
              "    </tr>\n",
              "    <tr>\n",
              "      <th>3</th>\n",
              "      <td>성동구</td>\n",
              "      <td>성동구청</td>\n",
              "      <td>37.563072</td>\n",
              "      <td>127.036669</td>\n",
              "      <td>대한민국 서울특별시 성동구 행당동 고산자로 270</td>\n",
              "    </tr>\n",
              "    <tr>\n",
              "      <th>17</th>\n",
              "      <td>금천구</td>\n",
              "      <td>금천구청</td>\n",
              "      <td>37.451853</td>\n",
              "      <td>126.902036</td>\n",
              "      <td>대한민국 서울특별시 금천구</td>\n",
              "    </tr>\n",
              "  </tbody>\n",
              "</table>\n",
              "</div>"
            ],
            "text/plain": [
              "    자치구  자치구청         위도          경도                              주소\n",
              "6   중랑구  중랑구청  37.606560  127.092624          대한민국 서울특별시 중랑구 신내동 662\n",
              "21  서초구  서초구청  37.483574  127.032661  대한민국 서울특별시 서초구 서초2동 남부순환로 2584\n",
              "4   광진구  광진구청  37.538533  127.082377     대한민국 서울특별시 광진구 자양1동 자양로 117\n",
              "3   성동구  성동구청  37.563072  127.036669     대한민국 서울특별시 성동구 행당동 고산자로 270\n",
              "17  금천구  금천구청  37.451853  126.902036                  대한민국 서울특별시 금천구"
            ]
          },
          "execution_count": 3,
          "metadata": {},
          "output_type": "execute_result"
        }
      ],
      "source": [
        "# 지도 시각화를 위한 자치구 위치 데이터 적재 및 확인\n",
        "offices = pd.read_csv(\"https://raw.githubusercontent.com/logistex/vd21/main/offices.csv\", engine='python')\n",
        "offices.sample(5)"
      ]
    },
    {
      "cell_type": "code",
      "execution_count": null,
      "id": "743dc7e0",
      "metadata": {
        "id": "743dc7e0",
        "outputId": "89679a57-26e1-40b4-da65-26a93a9175fa"
      },
      "outputs": [
        {
          "data": {
            "text/plain": [
              "UrlData({\n",
              "  format: TopoDataFormat({\n",
              "    feature: 'seoul_municipalities_geo',\n",
              "    type: 'topojson'\n",
              "  }),\n",
              "  url: 'https://raw.githubusercontent.com/southkorea/seoul-maps/master/juso/2015/json/seoul_municipalities_topo.json'\n",
              "})"
            ]
          },
          "execution_count": 4,
          "metadata": {},
          "output_type": "execute_result"
        }
      ],
      "source": [
        "# 자치구 경계선에 관한 지도 데이터\n",
        "seoul_url = 'https://raw.githubusercontent.com/southkorea/seoul-maps/master/juso/2015/json/seoul_municipalities_topo.json'\n",
        "seoul = alt.topo_feature(seoul_url, 'seoul_municipalities_geo')\n",
        "seoul"
      ]
    },
    {
      "cell_type": "markdown",
      "id": "c637721c",
      "metadata": {
        "id": "c637721c"
      },
      "source": [
        "## 3. 버블차트 시각화\n",
        "\n",
        "### 3.1 회귀선을 포함한 버블차트를 반환하는 함수 정의 \n"
      ]
    },
    {
      "cell_type": "code",
      "execution_count": null,
      "id": "bb486209",
      "metadata": {
        "id": "bb486209"
      },
      "outputs": [],
      "source": [
        "# 회귀선 버블차트 시각화 함수 정의\n",
        "\n",
        "def bubble(year, color):   \n",
        "    bb = alt.Chart(df).mark_circle().transform_calculate(\n",
        "        CCTV_비율 = 'datum.CCTV_규모_{0} / datum.인구_규모_{0} *100'.format(year)\n",
        "    ).encode(\n",
        "        x=alt.X('인구_규모_{0}'.format(year),\n",
        "               scale = alt.Scale(domain=[100000,700000]),\n",
        "                title = '인구 규모 (단위:명)'),\n",
        "        y = alt.Y('CCTV_규모_{0}'.format(year),\n",
        "                  scale = alt.Scale(domain=[0,7000]),\n",
        "                 title = 'CCTV 설치 규모 (단위:대)'),\n",
        "        color = alt.value(color),\n",
        "        opacity = alt.value(0.5),\n",
        "        tooltip = [\n",
        "            alt.Tooltip('자치구:N'),\n",
        "            alt.Tooltip('CCTV_비율:Q', format='.1%'),\n",
        "            alt.Tooltip('CCTV_규모_{0}'.format(year)),\n",
        "            alt.Tooltip('인구_규모_{0}'.format(year)),\n",
        "        ],\n",
        "        size = alt.Size('CCTV_비율:Q', scale=alt.Scale(range=[10,1000]), legend=None),\n",
        "        order = alt.Order('CCTV_비율:Q', sort='descending')\n",
        "        ).properties(\n",
        "        width=600,\n",
        "        height=500)\n",
        "\n",
        "    reg = bb.transform_regression(\"인구_규모_{0}\".format(year), \"CCTV_규모_{0}\".format(year)\n",
        "                                   ).mark_line(opacity=0.5) \n",
        "\n",
        "    return alt.layer(\n",
        "        bb,\n",
        "        reg\n",
        "    )  "
      ]
    },
    {
      "cell_type": "markdown",
      "id": "ff8a89a6",
      "metadata": {
        "id": "ff8a89a6"
      },
      "source": [
        "### 3.2 2015년도 차트 시각화"
      ]
    },
    {
      "cell_type": "code",
      "execution_count": null,
      "id": "6e046efb",
      "metadata": {
        "scrolled": false,
        "id": "6e046efb",
        "outputId": "cfae6e23-b571-43a3-968d-86b6662e437e"
      },
      "outputs": [
        {
          "data": {
            "text/html": [
              "\n",
              "<div id=\"altair-viz-c9aada7e5ee840dfbdced7b6a0010ff0\"></div>\n",
              "<script type=\"text/javascript\">\n",
              "  (function(spec, embedOpt){\n",
              "    let outputDiv = document.currentScript.previousElementSibling;\n",
              "    if (outputDiv.id !== \"altair-viz-c9aada7e5ee840dfbdced7b6a0010ff0\") {\n",
              "      outputDiv = document.getElementById(\"altair-viz-c9aada7e5ee840dfbdced7b6a0010ff0\");\n",
              "    }\n",
              "    const paths = {\n",
              "      \"vega\": \"https://cdn.jsdelivr.net/npm//vega@5?noext\",\n",
              "      \"vega-lib\": \"https://cdn.jsdelivr.net/npm//vega-lib?noext\",\n",
              "      \"vega-lite\": \"https://cdn.jsdelivr.net/npm//vega-lite@4.8.1?noext\",\n",
              "      \"vega-embed\": \"https://cdn.jsdelivr.net/npm//vega-embed@6?noext\",\n",
              "    };\n",
              "\n",
              "    function loadScript(lib) {\n",
              "      return new Promise(function(resolve, reject) {\n",
              "        var s = document.createElement('script');\n",
              "        s.src = paths[lib];\n",
              "        s.async = true;\n",
              "        s.onload = () => resolve(paths[lib]);\n",
              "        s.onerror = () => reject(`Error loading script: ${paths[lib]}`);\n",
              "        document.getElementsByTagName(\"head\")[0].appendChild(s);\n",
              "      });\n",
              "    }\n",
              "\n",
              "    function showError(err) {\n",
              "      outputDiv.innerHTML = `<div class=\"error\" style=\"color:red;\">${err}</div>`;\n",
              "      throw err;\n",
              "    }\n",
              "\n",
              "    function displayChart(vegaEmbed) {\n",
              "      vegaEmbed(outputDiv, spec, embedOpt)\n",
              "        .catch(err => showError(`Javascript Error: ${err.message}<br>This usually means there's a typo in your chart specification. See the javascript console for the full traceback.`));\n",
              "    }\n",
              "\n",
              "    if(typeof define === \"function\" && define.amd) {\n",
              "      requirejs.config({paths});\n",
              "      require([\"vega-embed\"], displayChart, err => showError(`Error loading script: ${err.message}`));\n",
              "    } else if (typeof vegaEmbed === \"function\") {\n",
              "      displayChart(vegaEmbed);\n",
              "    } else {\n",
              "      loadScript(\"vega\")\n",
              "        .then(() => loadScript(\"vega-lite\"))\n",
              "        .then(() => loadScript(\"vega-embed\"))\n",
              "        .catch(showError)\n",
              "        .then(() => displayChart(vegaEmbed));\n",
              "    }\n",
              "  })({\"config\": {\"view\": {\"continuousWidth\": 400, \"continuousHeight\": 300}}, \"layer\": [{\"mark\": \"circle\", \"encoding\": {\"color\": {\"value\": \"blue\"}, \"opacity\": {\"value\": 0.5}, \"order\": {\"type\": \"quantitative\", \"field\": \"CCTV_\\ube44\\uc728\", \"sort\": \"descending\"}, \"size\": {\"type\": \"quantitative\", \"field\": \"CCTV_\\ube44\\uc728\", \"legend\": null, \"scale\": {\"range\": [10, 1000]}}, \"tooltip\": [{\"type\": \"nominal\", \"field\": \"\\uc790\\uce58\\uad6c\"}, {\"type\": \"quantitative\", \"field\": \"CCTV_\\ube44\\uc728\", \"format\": \".1%\"}, {\"type\": \"quantitative\", \"field\": \"CCTV_\\uaddc\\ubaa8_2015\"}, {\"type\": \"quantitative\", \"field\": \"\\uc778\\uad6c_\\uaddc\\ubaa8_2015\"}], \"x\": {\"type\": \"quantitative\", \"field\": \"\\uc778\\uad6c_\\uaddc\\ubaa8_2015\", \"scale\": {\"domain\": [100000, 700000]}, \"title\": \"\\uc778\\uad6c \\uaddc\\ubaa8 (\\ub2e8\\uc704:\\uba85)\"}, \"y\": {\"type\": \"quantitative\", \"field\": \"CCTV_\\uaddc\\ubaa8_2015\", \"scale\": {\"domain\": [0, 7000]}, \"title\": \"CCTV \\uc124\\uce58 \\uaddc\\ubaa8 (\\ub2e8\\uc704:\\ub300)\"}}, \"height\": 500, \"transform\": [{\"calculate\": \"datum.CCTV_\\uaddc\\ubaa8_2015 / datum.\\uc778\\uad6c_\\uaddc\\ubaa8_2015 *100\", \"as\": \"CCTV_\\ube44\\uc728\"}], \"width\": 600}, {\"mark\": {\"type\": \"line\", \"opacity\": 0.5}, \"encoding\": {\"color\": {\"value\": \"blue\"}, \"opacity\": {\"value\": 0.5}, \"order\": {\"type\": \"quantitative\", \"field\": \"CCTV_\\ube44\\uc728\", \"sort\": \"descending\"}, \"size\": {\"type\": \"quantitative\", \"field\": \"CCTV_\\ube44\\uc728\", \"legend\": null, \"scale\": {\"range\": [10, 1000]}}, \"tooltip\": [{\"type\": \"nominal\", \"field\": \"\\uc790\\uce58\\uad6c\"}, {\"type\": \"quantitative\", \"field\": \"CCTV_\\ube44\\uc728\", \"format\": \".1%\"}, {\"type\": \"quantitative\", \"field\": \"CCTV_\\uaddc\\ubaa8_2015\"}, {\"type\": \"quantitative\", \"field\": \"\\uc778\\uad6c_\\uaddc\\ubaa8_2015\"}], \"x\": {\"type\": \"quantitative\", \"field\": \"\\uc778\\uad6c_\\uaddc\\ubaa8_2015\", \"scale\": {\"domain\": [100000, 700000]}, \"title\": \"\\uc778\\uad6c \\uaddc\\ubaa8 (\\ub2e8\\uc704:\\uba85)\"}, \"y\": {\"type\": \"quantitative\", \"field\": \"CCTV_\\uaddc\\ubaa8_2015\", \"scale\": {\"domain\": [0, 7000]}, \"title\": \"CCTV \\uc124\\uce58 \\uaddc\\ubaa8 (\\ub2e8\\uc704:\\ub300)\"}}, \"height\": 500, \"transform\": [{\"calculate\": \"datum.CCTV_\\uaddc\\ubaa8_2015 / datum.\\uc778\\uad6c_\\uaddc\\ubaa8_2015 *100\", \"as\": \"CCTV_\\ube44\\uc728\"}, {\"on\": \"\\uc778\\uad6c_\\uaddc\\ubaa8_2015\", \"regression\": \"CCTV_\\uaddc\\ubaa8_2015\"}], \"width\": 600}], \"data\": {\"name\": \"data-45ff08f1c85640db9e6eb2564c10a79f\"}, \"$schema\": \"https://vega.github.io/schema/vega-lite/v4.8.1.json\", \"datasets\": {\"data-45ff08f1c85640db9e6eb2564c10a79f\": [{\"no\": 6, \"id\": 1, \"\\uc790\\uce58\\uad6c\": \"\\uc885\\ub85c\\uad6c\", \"CCTV_\\uaddc\\ubaa8_2015\": 1175, \"CCTV_\\uaddc\\ubaa8_2020\": 1729, \"\\uc778\\uad6c_\\uaddc\\ubaa8_2015\": 163822, \"\\uc778\\uad6c_\\uaddc\\ubaa8_2020\": 158996}, {\"no\": 11, \"id\": 2, \"\\uc790\\uce58\\uad6c\": \"\\uc911\\uad6c\", \"CCTV_\\uaddc\\ubaa8_2015\": 654, \"CCTV_\\uaddc\\ubaa8_2020\": 2001, \"\\uc778\\uad6c_\\uaddc\\ubaa8_2015\": 134329, \"\\uc778\\uad6c_\\uaddc\\ubaa8_2020\": 134635}, {\"no\": 24, \"id\": 3, \"\\uc790\\uce58\\uad6c\": \"\\uc6a9\\uc0b0\\uad6c\", \"CCTV_\\uaddc\\ubaa8_2015\": 685, \"CCTV_\\uaddc\\ubaa8_2020\": 2383, \"\\uc778\\uad6c_\\uaddc\\ubaa8_2015\": 247909, \"\\uc778\\uad6c_\\uaddc\\ubaa8_2020\": 244645}, {\"no\": 20, \"id\": 4, \"\\uc790\\uce58\\uad6c\": \"\\uc131\\ub3d9\\uad6c\", \"CCTV_\\uaddc\\ubaa8_2015\": 1289, \"CCTV_\\uaddc\\ubaa8_2020\": 3515, \"\\uc778\\uad6c_\\uaddc\\ubaa8_2015\": 305065, \"\\uc778\\uad6c_\\uaddc\\ubaa8_2020\": 300505}, {\"no\": 13, \"id\": 5, \"\\uc790\\uce58\\uad6c\": \"\\uad11\\uc9c4\\uad6c\", \"CCTV_\\uaddc\\ubaa8_2015\": 477, \"CCTV_\\uaddc\\ubaa8_2020\": 2556, \"\\uc778\\uad6c_\\uaddc\\ubaa8_2015\": 375180, \"\\uc778\\uad6c_\\uaddc\\ubaa8_2020\": 360109}, {\"no\": 2, \"id\": 6, \"\\uc790\\uce58\\uad6c\": \"\\ub3d9\\ub300\\ubb38\\uad6c\", \"CCTV_\\uaddc\\ubaa8_2015\": 1436, \"CCTV_\\uaddc\\ubaa8_2020\": 2315, \"\\uc778\\uad6c_\\uaddc\\ubaa8_2015\": 373824, \"\\uc778\\uad6c_\\uaddc\\ubaa8_2020\": 357014}, {\"no\": 8, \"id\": 7, \"\\uc790\\uce58\\uad6c\": \"\\uc911\\ub791\\uad6c\", \"CCTV_\\uaddc\\ubaa8_2015\": 821, \"CCTV_\\uaddc\\ubaa8_2020\": 3285, \"\\uc778\\uad6c_\\uaddc\\ubaa8_2015\": 418620, \"\\uc778\\uad6c_\\uaddc\\ubaa8_2020\": 399562}, {\"no\": 17, \"id\": 8, \"\\uc790\\uce58\\uad6c\": \"\\uc131\\ubd81\\uad6c\", \"CCTV_\\uaddc\\ubaa8_2015\": 897, \"CCTV_\\uaddc\\ubaa8_2020\": 3754, \"\\uc778\\uad6c_\\uaddc\\ubaa8_2015\": 469560, \"\\uc778\\uad6c_\\uaddc\\ubaa8_2020\": 447056}, {\"no\": 7, \"id\": 9, \"\\uc790\\uce58\\uad6c\": \"\\uac15\\ubd81\\uad6c\", \"CCTV_\\uaddc\\ubaa8_2015\": 270, \"CCTV_\\uaddc\\ubaa8_2020\": 2462, \"\\uc778\\uad6c_\\uaddc\\ubaa8_2015\": 334426, \"\\uc778\\uad6c_\\uaddc\\ubaa8_2020\": 311569}, {\"no\": 0, \"id\": 10, \"\\uc790\\uce58\\uad6c\": \"\\ub3c4\\ubd09\\uad6c\", \"CCTV_\\uaddc\\ubaa8_2015\": 434, \"CCTV_\\uaddc\\ubaa8_2020\": 1356, \"\\uc778\\uad6c_\\uaddc\\ubaa8_2015\": 353241, \"\\uc778\\uad6c_\\uaddc\\ubaa8_2020\": 327361}, {\"no\": 18, \"id\": 11, \"\\uc790\\uce58\\uad6c\": \"\\ub178\\uc6d0\\uad6c\", \"CCTV_\\uaddc\\ubaa8_2015\": 909, \"CCTV_\\uaddc\\ubaa8_2020\": 2282, \"\\uc778\\uad6c_\\uaddc\\ubaa8_2015\": 578221, \"\\uc778\\uad6c_\\uaddc\\ubaa8_2020\": 527032}, {\"no\": 1, \"id\": 12, \"\\uc790\\uce58\\uad6c\": \"\\uc740\\ud3c9\\uad6c\", \"CCTV_\\uaddc\\ubaa8_2015\": 722, \"CCTV_\\uaddc\\ubaa8_2020\": 3660, \"\\uc778\\uad6c_\\uaddc\\ubaa8_2015\": 502578, \"\\uc778\\uad6c_\\uaddc\\ubaa8_2020\": 484043}, {\"no\": 21, \"id\": 13, \"\\uc790\\uce58\\uad6c\": \"\\uc11c\\ub300\\ubb38\\uad6c\", \"CCTV_\\uaddc\\ubaa8_2015\": 1235, \"CCTV_\\uaddc\\ubaa8_2020\": 2939, \"\\uc778\\uad6c_\\uaddc\\ubaa8_2015\": 323105, \"\\uc778\\uad6c_\\uaddc\\ubaa8_2020\": 322952}, {\"no\": 14, \"id\": 14, \"\\uc790\\uce58\\uad6c\": \"\\ub9c8\\ud3ec\\uad6c\", \"CCTV_\\uaddc\\ubaa8_2015\": 729, \"CCTV_\\uaddc\\ubaa8_2020\": 2401, \"\\uc778\\uad6c_\\uaddc\\ubaa8_2015\": 398351, \"\\uc778\\uad6c_\\uaddc\\ubaa8_2020\": 381858}, {\"no\": 22, \"id\": 15, \"\\uc790\\uce58\\uad6c\": \"\\uc591\\ucc9c\\uad6c\", \"CCTV_\\uaddc\\ubaa8_2015\": 2241, \"CCTV_\\uaddc\\ubaa8_2020\": 3307, \"\\uc778\\uad6c_\\uaddc\\ubaa8_2015\": 489010, \"\\uc778\\uad6c_\\uaddc\\ubaa8_2020\": 457781}, {\"no\": 10, \"id\": 16, \"\\uc790\\uce58\\uad6c\": \"\\uac15\\uc11c\\uad6c\", \"CCTV_\\uaddc\\ubaa8_2015\": 691, \"CCTV_\\uaddc\\ubaa8_2020\": 2437, \"\\uc778\\uad6c_\\uaddc\\ubaa8_2015\": 595691, \"\\uc778\\uad6c_\\uaddc\\ubaa8_2020\": 585901}, {\"no\": 5, \"id\": 17, \"\\uc790\\uce58\\uad6c\": \"\\uad6c\\ub85c\\uad6c\", \"CCTV_\\uaddc\\ubaa8_2015\": 1872, \"CCTV_\\uaddc\\ubaa8_2020\": 4075, \"\\uc778\\uad6c_\\uaddc\\ubaa8_2015\": 454604, \"\\uc778\\uad6c_\\uaddc\\ubaa8_2020\": 432488}, {\"no\": 4, \"id\": 18, \"\\uc790\\uce58\\uad6c\": \"\\uae08\\ucc9c\\uad6c\", \"CCTV_\\uaddc\\ubaa8_2015\": 619, \"CCTV_\\uaddc\\ubaa8_2020\": 2365, \"\\uc778\\uad6c_\\uaddc\\ubaa8_2015\": 256167, \"\\uc778\\uad6c_\\uaddc\\ubaa8_2020\": 247835}, {\"no\": 23, \"id\": 19, \"\\uc790\\uce58\\uad6c\": \"\\uc601\\ub4f1\\ud3ec\\uad6c\", \"CCTV_\\uaddc\\ubaa8_2015\": 1278, \"CCTV_\\uaddc\\ubaa8_2020\": 3773, \"\\uc778\\uad6c_\\uaddc\\ubaa8_2015\": 417811, \"\\uc778\\uad6c_\\uaddc\\ubaa8_2020\": 407367}, {\"no\": 3, \"id\": 20, \"\\uc790\\uce58\\uad6c\": \"\\ub3d9\\uc791\\uad6c\", \"CCTV_\\uaddc\\ubaa8_2015\": 993, \"CCTV_\\uaddc\\ubaa8_2020\": 2262, \"\\uc778\\uad6c_\\uaddc\\ubaa8_2015\": 412774, \"\\uc778\\uad6c_\\uaddc\\ubaa8_2020\": 401572}, {\"no\": 15, \"id\": 21, \"\\uc790\\uce58\\uad6c\": \"\\uad00\\uc545\\uad6c\", \"CCTV_\\uaddc\\ubaa8_2015\": 2004, \"CCTV_\\uaddc\\ubaa8_2020\": 4909, \"\\uc778\\uad6c_\\uaddc\\ubaa8_2015\": 529031, \"\\uc778\\uad6c_\\uaddc\\ubaa8_2020\": 509803}, {\"no\": 16, \"id\": 22, \"\\uc790\\uce58\\uad6c\": \"\\uc11c\\ucd08\\uad6c\", \"CCTV_\\uaddc\\ubaa8_2015\": 916, \"CCTV_\\uaddc\\ubaa8_2020\": 3730, \"\\uc778\\uad6c_\\uaddc\\ubaa8_2015\": 451258, \"\\uc778\\uad6c_\\uaddc\\ubaa8_2020\": 429025}, {\"no\": 9, \"id\": 23, \"\\uc790\\uce58\\uad6c\": \"\\uac15\\ub0a8\\uad6c\", \"CCTV_\\uaddc\\ubaa8_2015\": 1863, \"CCTV_\\uaddc\\ubaa8_2020\": 6645, \"\\uc778\\uad6c_\\uaddc\\ubaa8_2015\": 581760, \"\\uc778\\uad6c_\\uaddc\\ubaa8_2020\": 544055}, {\"no\": 19, \"id\": 24, \"\\uc790\\uce58\\uad6c\": \"\\uc1a1\\ud30c\\uad6c\", \"CCTV_\\uaddc\\ubaa8_2015\": 520, \"CCTV_\\uaddc\\ubaa8_2020\": 2743, \"\\uc778\\uad6c_\\uaddc\\ubaa8_2015\": 667480, \"\\uc778\\uad6c_\\uaddc\\ubaa8_2020\": 673926}, {\"no\": 12, \"id\": 25, \"\\uc790\\uce58\\uad6c\": \"\\uac15\\ub3d9\\uad6c\", \"CCTV_\\uaddc\\ubaa8_2015\": 725, \"CCTV_\\uaddc\\ubaa8_2020\": 2547, \"\\uc778\\uad6c_\\uaddc\\ubaa8_2015\": 463321, \"\\uc778\\uad6c_\\uaddc\\ubaa8_2020\": 463998}]}}, {\"mode\": \"vega-lite\"});\n",
              "</script>"
            ],
            "text/plain": [
              "alt.LayerChart(...)"
            ]
          },
          "execution_count": 6,
          "metadata": {},
          "output_type": "execute_result"
        }
      ],
      "source": [
        "# 2015년도 차트를 파란색으로 시각화\n",
        "bb_reg_2015 = bubble(2015, \"blue\")\n",
        "bb_reg_2015"
      ]
    },
    {
      "cell_type": "markdown",
      "id": "915c9484",
      "metadata": {
        "id": "915c9484"
      },
      "source": [
        "### 3.3 2020년도 차트 시각화"
      ]
    },
    {
      "cell_type": "code",
      "execution_count": null,
      "id": "c96add29",
      "metadata": {
        "id": "c96add29",
        "outputId": "5ffe5392-0c60-47b7-e32b-a0b71a8abdcf"
      },
      "outputs": [
        {
          "data": {
            "text/html": [
              "\n",
              "<div id=\"altair-viz-b9f6f8cd365f49c090fb20e871c68fbb\"></div>\n",
              "<script type=\"text/javascript\">\n",
              "  (function(spec, embedOpt){\n",
              "    let outputDiv = document.currentScript.previousElementSibling;\n",
              "    if (outputDiv.id !== \"altair-viz-b9f6f8cd365f49c090fb20e871c68fbb\") {\n",
              "      outputDiv = document.getElementById(\"altair-viz-b9f6f8cd365f49c090fb20e871c68fbb\");\n",
              "    }\n",
              "    const paths = {\n",
              "      \"vega\": \"https://cdn.jsdelivr.net/npm//vega@5?noext\",\n",
              "      \"vega-lib\": \"https://cdn.jsdelivr.net/npm//vega-lib?noext\",\n",
              "      \"vega-lite\": \"https://cdn.jsdelivr.net/npm//vega-lite@4.8.1?noext\",\n",
              "      \"vega-embed\": \"https://cdn.jsdelivr.net/npm//vega-embed@6?noext\",\n",
              "    };\n",
              "\n",
              "    function loadScript(lib) {\n",
              "      return new Promise(function(resolve, reject) {\n",
              "        var s = document.createElement('script');\n",
              "        s.src = paths[lib];\n",
              "        s.async = true;\n",
              "        s.onload = () => resolve(paths[lib]);\n",
              "        s.onerror = () => reject(`Error loading script: ${paths[lib]}`);\n",
              "        document.getElementsByTagName(\"head\")[0].appendChild(s);\n",
              "      });\n",
              "    }\n",
              "\n",
              "    function showError(err) {\n",
              "      outputDiv.innerHTML = `<div class=\"error\" style=\"color:red;\">${err}</div>`;\n",
              "      throw err;\n",
              "    }\n",
              "\n",
              "    function displayChart(vegaEmbed) {\n",
              "      vegaEmbed(outputDiv, spec, embedOpt)\n",
              "        .catch(err => showError(`Javascript Error: ${err.message}<br>This usually means there's a typo in your chart specification. See the javascript console for the full traceback.`));\n",
              "    }\n",
              "\n",
              "    if(typeof define === \"function\" && define.amd) {\n",
              "      requirejs.config({paths});\n",
              "      require([\"vega-embed\"], displayChart, err => showError(`Error loading script: ${err.message}`));\n",
              "    } else if (typeof vegaEmbed === \"function\") {\n",
              "      displayChart(vegaEmbed);\n",
              "    } else {\n",
              "      loadScript(\"vega\")\n",
              "        .then(() => loadScript(\"vega-lite\"))\n",
              "        .then(() => loadScript(\"vega-embed\"))\n",
              "        .catch(showError)\n",
              "        .then(() => displayChart(vegaEmbed));\n",
              "    }\n",
              "  })({\"config\": {\"view\": {\"continuousWidth\": 400, \"continuousHeight\": 300}}, \"layer\": [{\"mark\": \"circle\", \"encoding\": {\"color\": {\"value\": \"red\"}, \"opacity\": {\"value\": 0.5}, \"order\": {\"type\": \"quantitative\", \"field\": \"CCTV_\\ube44\\uc728\", \"sort\": \"descending\"}, \"size\": {\"type\": \"quantitative\", \"field\": \"CCTV_\\ube44\\uc728\", \"legend\": null, \"scale\": {\"range\": [10, 1000]}}, \"tooltip\": [{\"type\": \"nominal\", \"field\": \"\\uc790\\uce58\\uad6c\"}, {\"type\": \"quantitative\", \"field\": \"CCTV_\\ube44\\uc728\", \"format\": \".1%\"}, {\"type\": \"quantitative\", \"field\": \"CCTV_\\uaddc\\ubaa8_2020\"}, {\"type\": \"quantitative\", \"field\": \"\\uc778\\uad6c_\\uaddc\\ubaa8_2020\"}], \"x\": {\"type\": \"quantitative\", \"field\": \"\\uc778\\uad6c_\\uaddc\\ubaa8_2020\", \"scale\": {\"domain\": [100000, 700000]}, \"title\": \"\\uc778\\uad6c \\uaddc\\ubaa8 (\\ub2e8\\uc704:\\uba85)\"}, \"y\": {\"type\": \"quantitative\", \"field\": \"CCTV_\\uaddc\\ubaa8_2020\", \"scale\": {\"domain\": [0, 7000]}, \"title\": \"CCTV \\uc124\\uce58 \\uaddc\\ubaa8 (\\ub2e8\\uc704:\\ub300)\"}}, \"height\": 500, \"transform\": [{\"calculate\": \"datum.CCTV_\\uaddc\\ubaa8_2020 / datum.\\uc778\\uad6c_\\uaddc\\ubaa8_2020 *100\", \"as\": \"CCTV_\\ube44\\uc728\"}], \"width\": 600}, {\"mark\": {\"type\": \"line\", \"opacity\": 0.5}, \"encoding\": {\"color\": {\"value\": \"red\"}, \"opacity\": {\"value\": 0.5}, \"order\": {\"type\": \"quantitative\", \"field\": \"CCTV_\\ube44\\uc728\", \"sort\": \"descending\"}, \"size\": {\"type\": \"quantitative\", \"field\": \"CCTV_\\ube44\\uc728\", \"legend\": null, \"scale\": {\"range\": [10, 1000]}}, \"tooltip\": [{\"type\": \"nominal\", \"field\": \"\\uc790\\uce58\\uad6c\"}, {\"type\": \"quantitative\", \"field\": \"CCTV_\\ube44\\uc728\", \"format\": \".1%\"}, {\"type\": \"quantitative\", \"field\": \"CCTV_\\uaddc\\ubaa8_2020\"}, {\"type\": \"quantitative\", \"field\": \"\\uc778\\uad6c_\\uaddc\\ubaa8_2020\"}], \"x\": {\"type\": \"quantitative\", \"field\": \"\\uc778\\uad6c_\\uaddc\\ubaa8_2020\", \"scale\": {\"domain\": [100000, 700000]}, \"title\": \"\\uc778\\uad6c \\uaddc\\ubaa8 (\\ub2e8\\uc704:\\uba85)\"}, \"y\": {\"type\": \"quantitative\", \"field\": \"CCTV_\\uaddc\\ubaa8_2020\", \"scale\": {\"domain\": [0, 7000]}, \"title\": \"CCTV \\uc124\\uce58 \\uaddc\\ubaa8 (\\ub2e8\\uc704:\\ub300)\"}}, \"height\": 500, \"transform\": [{\"calculate\": \"datum.CCTV_\\uaddc\\ubaa8_2020 / datum.\\uc778\\uad6c_\\uaddc\\ubaa8_2020 *100\", \"as\": \"CCTV_\\ube44\\uc728\"}, {\"on\": \"\\uc778\\uad6c_\\uaddc\\ubaa8_2020\", \"regression\": \"CCTV_\\uaddc\\ubaa8_2020\"}], \"width\": 600}], \"data\": {\"name\": \"data-45ff08f1c85640db9e6eb2564c10a79f\"}, \"$schema\": \"https://vega.github.io/schema/vega-lite/v4.8.1.json\", \"datasets\": {\"data-45ff08f1c85640db9e6eb2564c10a79f\": [{\"no\": 6, \"id\": 1, \"\\uc790\\uce58\\uad6c\": \"\\uc885\\ub85c\\uad6c\", \"CCTV_\\uaddc\\ubaa8_2015\": 1175, \"CCTV_\\uaddc\\ubaa8_2020\": 1729, \"\\uc778\\uad6c_\\uaddc\\ubaa8_2015\": 163822, \"\\uc778\\uad6c_\\uaddc\\ubaa8_2020\": 158996}, {\"no\": 11, \"id\": 2, \"\\uc790\\uce58\\uad6c\": \"\\uc911\\uad6c\", \"CCTV_\\uaddc\\ubaa8_2015\": 654, \"CCTV_\\uaddc\\ubaa8_2020\": 2001, \"\\uc778\\uad6c_\\uaddc\\ubaa8_2015\": 134329, \"\\uc778\\uad6c_\\uaddc\\ubaa8_2020\": 134635}, {\"no\": 24, \"id\": 3, \"\\uc790\\uce58\\uad6c\": \"\\uc6a9\\uc0b0\\uad6c\", \"CCTV_\\uaddc\\ubaa8_2015\": 685, \"CCTV_\\uaddc\\ubaa8_2020\": 2383, \"\\uc778\\uad6c_\\uaddc\\ubaa8_2015\": 247909, \"\\uc778\\uad6c_\\uaddc\\ubaa8_2020\": 244645}, {\"no\": 20, \"id\": 4, \"\\uc790\\uce58\\uad6c\": \"\\uc131\\ub3d9\\uad6c\", \"CCTV_\\uaddc\\ubaa8_2015\": 1289, \"CCTV_\\uaddc\\ubaa8_2020\": 3515, \"\\uc778\\uad6c_\\uaddc\\ubaa8_2015\": 305065, \"\\uc778\\uad6c_\\uaddc\\ubaa8_2020\": 300505}, {\"no\": 13, \"id\": 5, \"\\uc790\\uce58\\uad6c\": \"\\uad11\\uc9c4\\uad6c\", \"CCTV_\\uaddc\\ubaa8_2015\": 477, \"CCTV_\\uaddc\\ubaa8_2020\": 2556, \"\\uc778\\uad6c_\\uaddc\\ubaa8_2015\": 375180, \"\\uc778\\uad6c_\\uaddc\\ubaa8_2020\": 360109}, {\"no\": 2, \"id\": 6, \"\\uc790\\uce58\\uad6c\": \"\\ub3d9\\ub300\\ubb38\\uad6c\", \"CCTV_\\uaddc\\ubaa8_2015\": 1436, \"CCTV_\\uaddc\\ubaa8_2020\": 2315, \"\\uc778\\uad6c_\\uaddc\\ubaa8_2015\": 373824, \"\\uc778\\uad6c_\\uaddc\\ubaa8_2020\": 357014}, {\"no\": 8, \"id\": 7, \"\\uc790\\uce58\\uad6c\": \"\\uc911\\ub791\\uad6c\", \"CCTV_\\uaddc\\ubaa8_2015\": 821, \"CCTV_\\uaddc\\ubaa8_2020\": 3285, \"\\uc778\\uad6c_\\uaddc\\ubaa8_2015\": 418620, \"\\uc778\\uad6c_\\uaddc\\ubaa8_2020\": 399562}, {\"no\": 17, \"id\": 8, \"\\uc790\\uce58\\uad6c\": \"\\uc131\\ubd81\\uad6c\", \"CCTV_\\uaddc\\ubaa8_2015\": 897, \"CCTV_\\uaddc\\ubaa8_2020\": 3754, \"\\uc778\\uad6c_\\uaddc\\ubaa8_2015\": 469560, \"\\uc778\\uad6c_\\uaddc\\ubaa8_2020\": 447056}, {\"no\": 7, \"id\": 9, \"\\uc790\\uce58\\uad6c\": \"\\uac15\\ubd81\\uad6c\", \"CCTV_\\uaddc\\ubaa8_2015\": 270, \"CCTV_\\uaddc\\ubaa8_2020\": 2462, \"\\uc778\\uad6c_\\uaddc\\ubaa8_2015\": 334426, \"\\uc778\\uad6c_\\uaddc\\ubaa8_2020\": 311569}, {\"no\": 0, \"id\": 10, \"\\uc790\\uce58\\uad6c\": \"\\ub3c4\\ubd09\\uad6c\", \"CCTV_\\uaddc\\ubaa8_2015\": 434, \"CCTV_\\uaddc\\ubaa8_2020\": 1356, \"\\uc778\\uad6c_\\uaddc\\ubaa8_2015\": 353241, \"\\uc778\\uad6c_\\uaddc\\ubaa8_2020\": 327361}, {\"no\": 18, \"id\": 11, \"\\uc790\\uce58\\uad6c\": \"\\ub178\\uc6d0\\uad6c\", \"CCTV_\\uaddc\\ubaa8_2015\": 909, \"CCTV_\\uaddc\\ubaa8_2020\": 2282, \"\\uc778\\uad6c_\\uaddc\\ubaa8_2015\": 578221, \"\\uc778\\uad6c_\\uaddc\\ubaa8_2020\": 527032}, {\"no\": 1, \"id\": 12, \"\\uc790\\uce58\\uad6c\": \"\\uc740\\ud3c9\\uad6c\", \"CCTV_\\uaddc\\ubaa8_2015\": 722, \"CCTV_\\uaddc\\ubaa8_2020\": 3660, \"\\uc778\\uad6c_\\uaddc\\ubaa8_2015\": 502578, \"\\uc778\\uad6c_\\uaddc\\ubaa8_2020\": 484043}, {\"no\": 21, \"id\": 13, \"\\uc790\\uce58\\uad6c\": \"\\uc11c\\ub300\\ubb38\\uad6c\", \"CCTV_\\uaddc\\ubaa8_2015\": 1235, \"CCTV_\\uaddc\\ubaa8_2020\": 2939, \"\\uc778\\uad6c_\\uaddc\\ubaa8_2015\": 323105, \"\\uc778\\uad6c_\\uaddc\\ubaa8_2020\": 322952}, {\"no\": 14, \"id\": 14, \"\\uc790\\uce58\\uad6c\": \"\\ub9c8\\ud3ec\\uad6c\", \"CCTV_\\uaddc\\ubaa8_2015\": 729, \"CCTV_\\uaddc\\ubaa8_2020\": 2401, \"\\uc778\\uad6c_\\uaddc\\ubaa8_2015\": 398351, \"\\uc778\\uad6c_\\uaddc\\ubaa8_2020\": 381858}, {\"no\": 22, \"id\": 15, \"\\uc790\\uce58\\uad6c\": \"\\uc591\\ucc9c\\uad6c\", \"CCTV_\\uaddc\\ubaa8_2015\": 2241, \"CCTV_\\uaddc\\ubaa8_2020\": 3307, \"\\uc778\\uad6c_\\uaddc\\ubaa8_2015\": 489010, \"\\uc778\\uad6c_\\uaddc\\ubaa8_2020\": 457781}, {\"no\": 10, \"id\": 16, \"\\uc790\\uce58\\uad6c\": \"\\uac15\\uc11c\\uad6c\", \"CCTV_\\uaddc\\ubaa8_2015\": 691, \"CCTV_\\uaddc\\ubaa8_2020\": 2437, \"\\uc778\\uad6c_\\uaddc\\ubaa8_2015\": 595691, \"\\uc778\\uad6c_\\uaddc\\ubaa8_2020\": 585901}, {\"no\": 5, \"id\": 17, \"\\uc790\\uce58\\uad6c\": \"\\uad6c\\ub85c\\uad6c\", \"CCTV_\\uaddc\\ubaa8_2015\": 1872, \"CCTV_\\uaddc\\ubaa8_2020\": 4075, \"\\uc778\\uad6c_\\uaddc\\ubaa8_2015\": 454604, \"\\uc778\\uad6c_\\uaddc\\ubaa8_2020\": 432488}, {\"no\": 4, \"id\": 18, \"\\uc790\\uce58\\uad6c\": \"\\uae08\\ucc9c\\uad6c\", \"CCTV_\\uaddc\\ubaa8_2015\": 619, \"CCTV_\\uaddc\\ubaa8_2020\": 2365, \"\\uc778\\uad6c_\\uaddc\\ubaa8_2015\": 256167, \"\\uc778\\uad6c_\\uaddc\\ubaa8_2020\": 247835}, {\"no\": 23, \"id\": 19, \"\\uc790\\uce58\\uad6c\": \"\\uc601\\ub4f1\\ud3ec\\uad6c\", \"CCTV_\\uaddc\\ubaa8_2015\": 1278, \"CCTV_\\uaddc\\ubaa8_2020\": 3773, \"\\uc778\\uad6c_\\uaddc\\ubaa8_2015\": 417811, \"\\uc778\\uad6c_\\uaddc\\ubaa8_2020\": 407367}, {\"no\": 3, \"id\": 20, \"\\uc790\\uce58\\uad6c\": \"\\ub3d9\\uc791\\uad6c\", \"CCTV_\\uaddc\\ubaa8_2015\": 993, \"CCTV_\\uaddc\\ubaa8_2020\": 2262, \"\\uc778\\uad6c_\\uaddc\\ubaa8_2015\": 412774, \"\\uc778\\uad6c_\\uaddc\\ubaa8_2020\": 401572}, {\"no\": 15, \"id\": 21, \"\\uc790\\uce58\\uad6c\": \"\\uad00\\uc545\\uad6c\", \"CCTV_\\uaddc\\ubaa8_2015\": 2004, \"CCTV_\\uaddc\\ubaa8_2020\": 4909, \"\\uc778\\uad6c_\\uaddc\\ubaa8_2015\": 529031, \"\\uc778\\uad6c_\\uaddc\\ubaa8_2020\": 509803}, {\"no\": 16, \"id\": 22, \"\\uc790\\uce58\\uad6c\": \"\\uc11c\\ucd08\\uad6c\", \"CCTV_\\uaddc\\ubaa8_2015\": 916, \"CCTV_\\uaddc\\ubaa8_2020\": 3730, \"\\uc778\\uad6c_\\uaddc\\ubaa8_2015\": 451258, \"\\uc778\\uad6c_\\uaddc\\ubaa8_2020\": 429025}, {\"no\": 9, \"id\": 23, \"\\uc790\\uce58\\uad6c\": \"\\uac15\\ub0a8\\uad6c\", \"CCTV_\\uaddc\\ubaa8_2015\": 1863, \"CCTV_\\uaddc\\ubaa8_2020\": 6645, \"\\uc778\\uad6c_\\uaddc\\ubaa8_2015\": 581760, \"\\uc778\\uad6c_\\uaddc\\ubaa8_2020\": 544055}, {\"no\": 19, \"id\": 24, \"\\uc790\\uce58\\uad6c\": \"\\uc1a1\\ud30c\\uad6c\", \"CCTV_\\uaddc\\ubaa8_2015\": 520, \"CCTV_\\uaddc\\ubaa8_2020\": 2743, \"\\uc778\\uad6c_\\uaddc\\ubaa8_2015\": 667480, \"\\uc778\\uad6c_\\uaddc\\ubaa8_2020\": 673926}, {\"no\": 12, \"id\": 25, \"\\uc790\\uce58\\uad6c\": \"\\uac15\\ub3d9\\uad6c\", \"CCTV_\\uaddc\\ubaa8_2015\": 725, \"CCTV_\\uaddc\\ubaa8_2020\": 2547, \"\\uc778\\uad6c_\\uaddc\\ubaa8_2015\": 463321, \"\\uc778\\uad6c_\\uaddc\\ubaa8_2020\": 463998}]}}, {\"mode\": \"vega-lite\"});\n",
              "</script>"
            ],
            "text/plain": [
              "alt.LayerChart(...)"
            ]
          },
          "execution_count": 7,
          "metadata": {},
          "output_type": "execute_result"
        }
      ],
      "source": [
        "# 2020년도 차트를 빨간색으로 시각화\n",
        "bb_reg_2020 = bubble(2020,\"red\")\n",
        "bb_reg_2020"
      ]
    },
    {
      "cell_type": "markdown",
      "id": "fc19b834",
      "metadata": {
        "id": "fc19b834"
      },
      "source": [
        "### 3.4 이동궤적 시각화"
      ]
    },
    {
      "cell_type": "code",
      "execution_count": null,
      "id": "689317bd",
      "metadata": {
        "scrolled": false,
        "id": "689317bd",
        "outputId": "5494cf7f-6bb7-49d3-e10b-97f376455d28"
      },
      "outputs": [
        {
          "data": {
            "text/html": [
              "\n",
              "<div id=\"altair-viz-4d1099eb74ef4152b8ac86de268545c9\"></div>\n",
              "<script type=\"text/javascript\">\n",
              "  (function(spec, embedOpt){\n",
              "    let outputDiv = document.currentScript.previousElementSibling;\n",
              "    if (outputDiv.id !== \"altair-viz-4d1099eb74ef4152b8ac86de268545c9\") {\n",
              "      outputDiv = document.getElementById(\"altair-viz-4d1099eb74ef4152b8ac86de268545c9\");\n",
              "    }\n",
              "    const paths = {\n",
              "      \"vega\": \"https://cdn.jsdelivr.net/npm//vega@5?noext\",\n",
              "      \"vega-lib\": \"https://cdn.jsdelivr.net/npm//vega-lib?noext\",\n",
              "      \"vega-lite\": \"https://cdn.jsdelivr.net/npm//vega-lite@4.8.1?noext\",\n",
              "      \"vega-embed\": \"https://cdn.jsdelivr.net/npm//vega-embed@6?noext\",\n",
              "    };\n",
              "\n",
              "    function loadScript(lib) {\n",
              "      return new Promise(function(resolve, reject) {\n",
              "        var s = document.createElement('script');\n",
              "        s.src = paths[lib];\n",
              "        s.async = true;\n",
              "        s.onload = () => resolve(paths[lib]);\n",
              "        s.onerror = () => reject(`Error loading script: ${paths[lib]}`);\n",
              "        document.getElementsByTagName(\"head\")[0].appendChild(s);\n",
              "      });\n",
              "    }\n",
              "\n",
              "    function showError(err) {\n",
              "      outputDiv.innerHTML = `<div class=\"error\" style=\"color:red;\">${err}</div>`;\n",
              "      throw err;\n",
              "    }\n",
              "\n",
              "    function displayChart(vegaEmbed) {\n",
              "      vegaEmbed(outputDiv, spec, embedOpt)\n",
              "        .catch(err => showError(`Javascript Error: ${err.message}<br>This usually means there's a typo in your chart specification. See the javascript console for the full traceback.`));\n",
              "    }\n",
              "\n",
              "    if(typeof define === \"function\" && define.amd) {\n",
              "      requirejs.config({paths});\n",
              "      require([\"vega-embed\"], displayChart, err => showError(`Error loading script: ${err.message}`));\n",
              "    } else if (typeof vegaEmbed === \"function\") {\n",
              "      displayChart(vegaEmbed);\n",
              "    } else {\n",
              "      loadScript(\"vega\")\n",
              "        .then(() => loadScript(\"vega-lite\"))\n",
              "        .then(() => loadScript(\"vega-embed\"))\n",
              "        .catch(showError)\n",
              "        .then(() => displayChart(vegaEmbed));\n",
              "    }\n",
              "  })({\"config\": {\"view\": {\"continuousWidth\": 400, \"continuousHeight\": 300}}, \"data\": {\"name\": \"data-45ff08f1c85640db9e6eb2564c10a79f\"}, \"mark\": \"line\", \"encoding\": {\"color\": {\"type\": \"quantitative\", \"field\": \"\\uc99d\\uac00\\uc728\", \"legend\": null}, \"size\": {\"type\": \"quantitative\", \"field\": \"\\uc99d\\uac00\\uc728\", \"legend\": null}, \"tooltip\": [{\"type\": \"nominal\", \"field\": \"\\uc790\\uce58\\uad6c\"}, {\"type\": \"quantitative\", \"field\": \"\\uc99d\\uac00\\uc728\", \"format\": \".1%\"}], \"x\": {\"type\": \"quantitative\", \"field\": \"\\uc778\\uad6c_\\uaddc\\ubaa8_2015\", \"scale\": {\"domain\": [100000, 700000]}}, \"x2\": {\"field\": \"\\uc778\\uad6c_\\uaddc\\ubaa8_2020\"}, \"y\": {\"type\": \"quantitative\", \"field\": \"CCTV_\\uaddc\\ubaa8_2015\", \"scale\": {\"domain\": [0, 7000]}}, \"y2\": {\"field\": \"CCTV_\\uaddc\\ubaa8_2020\"}}, \"height\": 400, \"transform\": [{\"calculate\": \"(datum.CCTV_\\uaddc\\ubaa8_2020 - datum.CCTV_\\uaddc\\ubaa8_2015)/datum.CCTV_\\uaddc\\ubaa8_2015\", \"as\": \"\\uc99d\\uac00\\uc728\"}], \"width\": 600, \"$schema\": \"https://vega.github.io/schema/vega-lite/v4.8.1.json\", \"datasets\": {\"data-45ff08f1c85640db9e6eb2564c10a79f\": [{\"no\": 6, \"id\": 1, \"\\uc790\\uce58\\uad6c\": \"\\uc885\\ub85c\\uad6c\", \"CCTV_\\uaddc\\ubaa8_2015\": 1175, \"CCTV_\\uaddc\\ubaa8_2020\": 1729, \"\\uc778\\uad6c_\\uaddc\\ubaa8_2015\": 163822, \"\\uc778\\uad6c_\\uaddc\\ubaa8_2020\": 158996}, {\"no\": 11, \"id\": 2, \"\\uc790\\uce58\\uad6c\": \"\\uc911\\uad6c\", \"CCTV_\\uaddc\\ubaa8_2015\": 654, \"CCTV_\\uaddc\\ubaa8_2020\": 2001, \"\\uc778\\uad6c_\\uaddc\\ubaa8_2015\": 134329, \"\\uc778\\uad6c_\\uaddc\\ubaa8_2020\": 134635}, {\"no\": 24, \"id\": 3, \"\\uc790\\uce58\\uad6c\": \"\\uc6a9\\uc0b0\\uad6c\", \"CCTV_\\uaddc\\ubaa8_2015\": 685, \"CCTV_\\uaddc\\ubaa8_2020\": 2383, \"\\uc778\\uad6c_\\uaddc\\ubaa8_2015\": 247909, \"\\uc778\\uad6c_\\uaddc\\ubaa8_2020\": 244645}, {\"no\": 20, \"id\": 4, \"\\uc790\\uce58\\uad6c\": \"\\uc131\\ub3d9\\uad6c\", \"CCTV_\\uaddc\\ubaa8_2015\": 1289, \"CCTV_\\uaddc\\ubaa8_2020\": 3515, \"\\uc778\\uad6c_\\uaddc\\ubaa8_2015\": 305065, \"\\uc778\\uad6c_\\uaddc\\ubaa8_2020\": 300505}, {\"no\": 13, \"id\": 5, \"\\uc790\\uce58\\uad6c\": \"\\uad11\\uc9c4\\uad6c\", \"CCTV_\\uaddc\\ubaa8_2015\": 477, \"CCTV_\\uaddc\\ubaa8_2020\": 2556, \"\\uc778\\uad6c_\\uaddc\\ubaa8_2015\": 375180, \"\\uc778\\uad6c_\\uaddc\\ubaa8_2020\": 360109}, {\"no\": 2, \"id\": 6, \"\\uc790\\uce58\\uad6c\": \"\\ub3d9\\ub300\\ubb38\\uad6c\", \"CCTV_\\uaddc\\ubaa8_2015\": 1436, \"CCTV_\\uaddc\\ubaa8_2020\": 2315, \"\\uc778\\uad6c_\\uaddc\\ubaa8_2015\": 373824, \"\\uc778\\uad6c_\\uaddc\\ubaa8_2020\": 357014}, {\"no\": 8, \"id\": 7, \"\\uc790\\uce58\\uad6c\": \"\\uc911\\ub791\\uad6c\", \"CCTV_\\uaddc\\ubaa8_2015\": 821, \"CCTV_\\uaddc\\ubaa8_2020\": 3285, \"\\uc778\\uad6c_\\uaddc\\ubaa8_2015\": 418620, \"\\uc778\\uad6c_\\uaddc\\ubaa8_2020\": 399562}, {\"no\": 17, \"id\": 8, \"\\uc790\\uce58\\uad6c\": \"\\uc131\\ubd81\\uad6c\", \"CCTV_\\uaddc\\ubaa8_2015\": 897, \"CCTV_\\uaddc\\ubaa8_2020\": 3754, \"\\uc778\\uad6c_\\uaddc\\ubaa8_2015\": 469560, \"\\uc778\\uad6c_\\uaddc\\ubaa8_2020\": 447056}, {\"no\": 7, \"id\": 9, \"\\uc790\\uce58\\uad6c\": \"\\uac15\\ubd81\\uad6c\", \"CCTV_\\uaddc\\ubaa8_2015\": 270, \"CCTV_\\uaddc\\ubaa8_2020\": 2462, \"\\uc778\\uad6c_\\uaddc\\ubaa8_2015\": 334426, \"\\uc778\\uad6c_\\uaddc\\ubaa8_2020\": 311569}, {\"no\": 0, \"id\": 10, \"\\uc790\\uce58\\uad6c\": \"\\ub3c4\\ubd09\\uad6c\", \"CCTV_\\uaddc\\ubaa8_2015\": 434, \"CCTV_\\uaddc\\ubaa8_2020\": 1356, \"\\uc778\\uad6c_\\uaddc\\ubaa8_2015\": 353241, \"\\uc778\\uad6c_\\uaddc\\ubaa8_2020\": 327361}, {\"no\": 18, \"id\": 11, \"\\uc790\\uce58\\uad6c\": \"\\ub178\\uc6d0\\uad6c\", \"CCTV_\\uaddc\\ubaa8_2015\": 909, \"CCTV_\\uaddc\\ubaa8_2020\": 2282, \"\\uc778\\uad6c_\\uaddc\\ubaa8_2015\": 578221, \"\\uc778\\uad6c_\\uaddc\\ubaa8_2020\": 527032}, {\"no\": 1, \"id\": 12, \"\\uc790\\uce58\\uad6c\": \"\\uc740\\ud3c9\\uad6c\", \"CCTV_\\uaddc\\ubaa8_2015\": 722, \"CCTV_\\uaddc\\ubaa8_2020\": 3660, \"\\uc778\\uad6c_\\uaddc\\ubaa8_2015\": 502578, \"\\uc778\\uad6c_\\uaddc\\ubaa8_2020\": 484043}, {\"no\": 21, \"id\": 13, \"\\uc790\\uce58\\uad6c\": \"\\uc11c\\ub300\\ubb38\\uad6c\", \"CCTV_\\uaddc\\ubaa8_2015\": 1235, \"CCTV_\\uaddc\\ubaa8_2020\": 2939, \"\\uc778\\uad6c_\\uaddc\\ubaa8_2015\": 323105, \"\\uc778\\uad6c_\\uaddc\\ubaa8_2020\": 322952}, {\"no\": 14, \"id\": 14, \"\\uc790\\uce58\\uad6c\": \"\\ub9c8\\ud3ec\\uad6c\", \"CCTV_\\uaddc\\ubaa8_2015\": 729, \"CCTV_\\uaddc\\ubaa8_2020\": 2401, \"\\uc778\\uad6c_\\uaddc\\ubaa8_2015\": 398351, \"\\uc778\\uad6c_\\uaddc\\ubaa8_2020\": 381858}, {\"no\": 22, \"id\": 15, \"\\uc790\\uce58\\uad6c\": \"\\uc591\\ucc9c\\uad6c\", \"CCTV_\\uaddc\\ubaa8_2015\": 2241, \"CCTV_\\uaddc\\ubaa8_2020\": 3307, \"\\uc778\\uad6c_\\uaddc\\ubaa8_2015\": 489010, \"\\uc778\\uad6c_\\uaddc\\ubaa8_2020\": 457781}, {\"no\": 10, \"id\": 16, \"\\uc790\\uce58\\uad6c\": \"\\uac15\\uc11c\\uad6c\", \"CCTV_\\uaddc\\ubaa8_2015\": 691, \"CCTV_\\uaddc\\ubaa8_2020\": 2437, \"\\uc778\\uad6c_\\uaddc\\ubaa8_2015\": 595691, \"\\uc778\\uad6c_\\uaddc\\ubaa8_2020\": 585901}, {\"no\": 5, \"id\": 17, \"\\uc790\\uce58\\uad6c\": \"\\uad6c\\ub85c\\uad6c\", \"CCTV_\\uaddc\\ubaa8_2015\": 1872, \"CCTV_\\uaddc\\ubaa8_2020\": 4075, \"\\uc778\\uad6c_\\uaddc\\ubaa8_2015\": 454604, \"\\uc778\\uad6c_\\uaddc\\ubaa8_2020\": 432488}, {\"no\": 4, \"id\": 18, \"\\uc790\\uce58\\uad6c\": \"\\uae08\\ucc9c\\uad6c\", \"CCTV_\\uaddc\\ubaa8_2015\": 619, \"CCTV_\\uaddc\\ubaa8_2020\": 2365, \"\\uc778\\uad6c_\\uaddc\\ubaa8_2015\": 256167, \"\\uc778\\uad6c_\\uaddc\\ubaa8_2020\": 247835}, {\"no\": 23, \"id\": 19, \"\\uc790\\uce58\\uad6c\": \"\\uc601\\ub4f1\\ud3ec\\uad6c\", \"CCTV_\\uaddc\\ubaa8_2015\": 1278, \"CCTV_\\uaddc\\ubaa8_2020\": 3773, \"\\uc778\\uad6c_\\uaddc\\ubaa8_2015\": 417811, \"\\uc778\\uad6c_\\uaddc\\ubaa8_2020\": 407367}, {\"no\": 3, \"id\": 20, \"\\uc790\\uce58\\uad6c\": \"\\ub3d9\\uc791\\uad6c\", \"CCTV_\\uaddc\\ubaa8_2015\": 993, \"CCTV_\\uaddc\\ubaa8_2020\": 2262, \"\\uc778\\uad6c_\\uaddc\\ubaa8_2015\": 412774, \"\\uc778\\uad6c_\\uaddc\\ubaa8_2020\": 401572}, {\"no\": 15, \"id\": 21, \"\\uc790\\uce58\\uad6c\": \"\\uad00\\uc545\\uad6c\", \"CCTV_\\uaddc\\ubaa8_2015\": 2004, \"CCTV_\\uaddc\\ubaa8_2020\": 4909, \"\\uc778\\uad6c_\\uaddc\\ubaa8_2015\": 529031, \"\\uc778\\uad6c_\\uaddc\\ubaa8_2020\": 509803}, {\"no\": 16, \"id\": 22, \"\\uc790\\uce58\\uad6c\": \"\\uc11c\\ucd08\\uad6c\", \"CCTV_\\uaddc\\ubaa8_2015\": 916, \"CCTV_\\uaddc\\ubaa8_2020\": 3730, \"\\uc778\\uad6c_\\uaddc\\ubaa8_2015\": 451258, \"\\uc778\\uad6c_\\uaddc\\ubaa8_2020\": 429025}, {\"no\": 9, \"id\": 23, \"\\uc790\\uce58\\uad6c\": \"\\uac15\\ub0a8\\uad6c\", \"CCTV_\\uaddc\\ubaa8_2015\": 1863, \"CCTV_\\uaddc\\ubaa8_2020\": 6645, \"\\uc778\\uad6c_\\uaddc\\ubaa8_2015\": 581760, \"\\uc778\\uad6c_\\uaddc\\ubaa8_2020\": 544055}, {\"no\": 19, \"id\": 24, \"\\uc790\\uce58\\uad6c\": \"\\uc1a1\\ud30c\\uad6c\", \"CCTV_\\uaddc\\ubaa8_2015\": 520, \"CCTV_\\uaddc\\ubaa8_2020\": 2743, \"\\uc778\\uad6c_\\uaddc\\ubaa8_2015\": 667480, \"\\uc778\\uad6c_\\uaddc\\ubaa8_2020\": 673926}, {\"no\": 12, \"id\": 25, \"\\uc790\\uce58\\uad6c\": \"\\uac15\\ub3d9\\uad6c\", \"CCTV_\\uaddc\\ubaa8_2015\": 725, \"CCTV_\\uaddc\\ubaa8_2020\": 2547, \"\\uc778\\uad6c_\\uaddc\\ubaa8_2015\": 463321, \"\\uc778\\uad6c_\\uaddc\\ubaa8_2020\": 463998}]}}, {\"mode\": \"vega-lite\"});\n",
              "</script>"
            ],
            "text/plain": [
              "alt.Chart(...)"
            ]
          },
          "execution_count": 8,
          "metadata": {},
          "output_type": "execute_result"
        }
      ],
      "source": [
        "# 버블 이동궤적 시각화\n",
        "\n",
        "move = alt.Chart(df).mark_line().transform_calculate(\n",
        "    증가율= '(datum.CCTV_규모_2020 - datum.CCTV_규모_2015)/datum.CCTV_규모_2015'\n",
        ").encode(\n",
        "    x= alt.X('인구_규모_2015:Q', scale = alt.Scale(domain=[100000, 700000])),\n",
        "    x2= alt.X2('인구_규모_2020:Q'),\n",
        "    y = alt.Y('CCTV_규모_2015:Q', scale = alt.Scale(domain = [0,7000])),\n",
        "    y2 = alt.Y2('CCTV_규모_2020:Q'),\n",
        "    size = alt.Size('증가율:Q',legend = None),\n",
        "    color = alt.Color('증가율:Q', legend = None),\n",
        "    tooltip = [\n",
        "        alt.Tooltip('자치구:N'),\n",
        "        alt.Tooltip('증가율:Q', format='.1%')\n",
        "    ]\n",
        ").properties(\n",
        "    width = 600,\n",
        "    height = 400\n",
        ")\n",
        "\n",
        "move"
      ]
    },
    {
      "cell_type": "markdown",
      "id": "a2674702",
      "metadata": {
        "id": "a2674702"
      },
      "source": [
        "### 3.5 시각화 결과 통합"
      ]
    },
    {
      "cell_type": "code",
      "execution_count": null,
      "id": "736525af",
      "metadata": {
        "scrolled": false,
        "id": "736525af",
        "outputId": "66fe4353-4c61-435e-b9a7-e288ac000b1e"
      },
      "outputs": [
        {
          "data": {
            "text/html": [
              "\n",
              "<div id=\"altair-viz-14557b6c699548b894780cc538c48da0\"></div>\n",
              "<script type=\"text/javascript\">\n",
              "  (function(spec, embedOpt){\n",
              "    let outputDiv = document.currentScript.previousElementSibling;\n",
              "    if (outputDiv.id !== \"altair-viz-14557b6c699548b894780cc538c48da0\") {\n",
              "      outputDiv = document.getElementById(\"altair-viz-14557b6c699548b894780cc538c48da0\");\n",
              "    }\n",
              "    const paths = {\n",
              "      \"vega\": \"https://cdn.jsdelivr.net/npm//vega@5?noext\",\n",
              "      \"vega-lib\": \"https://cdn.jsdelivr.net/npm//vega-lib?noext\",\n",
              "      \"vega-lite\": \"https://cdn.jsdelivr.net/npm//vega-lite@4.8.1?noext\",\n",
              "      \"vega-embed\": \"https://cdn.jsdelivr.net/npm//vega-embed@6?noext\",\n",
              "    };\n",
              "\n",
              "    function loadScript(lib) {\n",
              "      return new Promise(function(resolve, reject) {\n",
              "        var s = document.createElement('script');\n",
              "        s.src = paths[lib];\n",
              "        s.async = true;\n",
              "        s.onload = () => resolve(paths[lib]);\n",
              "        s.onerror = () => reject(`Error loading script: ${paths[lib]}`);\n",
              "        document.getElementsByTagName(\"head\")[0].appendChild(s);\n",
              "      });\n",
              "    }\n",
              "\n",
              "    function showError(err) {\n",
              "      outputDiv.innerHTML = `<div class=\"error\" style=\"color:red;\">${err}</div>`;\n",
              "      throw err;\n",
              "    }\n",
              "\n",
              "    function displayChart(vegaEmbed) {\n",
              "      vegaEmbed(outputDiv, spec, embedOpt)\n",
              "        .catch(err => showError(`Javascript Error: ${err.message}<br>This usually means there's a typo in your chart specification. See the javascript console for the full traceback.`));\n",
              "    }\n",
              "\n",
              "    if(typeof define === \"function\" && define.amd) {\n",
              "      requirejs.config({paths});\n",
              "      require([\"vega-embed\"], displayChart, err => showError(`Error loading script: ${err.message}`));\n",
              "    } else if (typeof vegaEmbed === \"function\") {\n",
              "      displayChart(vegaEmbed);\n",
              "    } else {\n",
              "      loadScript(\"vega\")\n",
              "        .then(() => loadScript(\"vega-lite\"))\n",
              "        .then(() => loadScript(\"vega-embed\"))\n",
              "        .catch(showError)\n",
              "        .then(() => displayChart(vegaEmbed));\n",
              "    }\n",
              "  })({\"config\": {\"view\": {\"continuousWidth\": 400, \"continuousHeight\": 300}}, \"layer\": [{\"layer\": [{\"mark\": \"circle\", \"encoding\": {\"color\": {\"value\": \"blue\"}, \"opacity\": {\"value\": 0.5}, \"order\": {\"type\": \"quantitative\", \"field\": \"CCTV_\\ube44\\uc728\", \"sort\": \"descending\"}, \"size\": {\"type\": \"quantitative\", \"field\": \"CCTV_\\ube44\\uc728\", \"legend\": null, \"scale\": {\"range\": [10, 1000]}}, \"tooltip\": [{\"type\": \"nominal\", \"field\": \"\\uc790\\uce58\\uad6c\"}, {\"type\": \"quantitative\", \"field\": \"CCTV_\\ube44\\uc728\", \"format\": \".1%\"}, {\"type\": \"quantitative\", \"field\": \"CCTV_\\uaddc\\ubaa8_2015\"}, {\"type\": \"quantitative\", \"field\": \"\\uc778\\uad6c_\\uaddc\\ubaa8_2015\"}], \"x\": {\"type\": \"quantitative\", \"field\": \"\\uc778\\uad6c_\\uaddc\\ubaa8_2015\", \"scale\": {\"domain\": [100000, 700000]}, \"title\": \"\\uc778\\uad6c \\uaddc\\ubaa8 (\\ub2e8\\uc704:\\uba85)\"}, \"y\": {\"type\": \"quantitative\", \"field\": \"CCTV_\\uaddc\\ubaa8_2015\", \"scale\": {\"domain\": [0, 7000]}, \"title\": \"CCTV \\uc124\\uce58 \\uaddc\\ubaa8 (\\ub2e8\\uc704:\\ub300)\"}}, \"height\": 500, \"transform\": [{\"calculate\": \"datum.CCTV_\\uaddc\\ubaa8_2015 / datum.\\uc778\\uad6c_\\uaddc\\ubaa8_2015 *100\", \"as\": \"CCTV_\\ube44\\uc728\"}], \"width\": 600}, {\"mark\": {\"type\": \"line\", \"opacity\": 0.5}, \"encoding\": {\"color\": {\"value\": \"blue\"}, \"opacity\": {\"value\": 0.5}, \"order\": {\"type\": \"quantitative\", \"field\": \"CCTV_\\ube44\\uc728\", \"sort\": \"descending\"}, \"size\": {\"type\": \"quantitative\", \"field\": \"CCTV_\\ube44\\uc728\", \"legend\": null, \"scale\": {\"range\": [10, 1000]}}, \"tooltip\": [{\"type\": \"nominal\", \"field\": \"\\uc790\\uce58\\uad6c\"}, {\"type\": \"quantitative\", \"field\": \"CCTV_\\ube44\\uc728\", \"format\": \".1%\"}, {\"type\": \"quantitative\", \"field\": \"CCTV_\\uaddc\\ubaa8_2015\"}, {\"type\": \"quantitative\", \"field\": \"\\uc778\\uad6c_\\uaddc\\ubaa8_2015\"}], \"x\": {\"type\": \"quantitative\", \"field\": \"\\uc778\\uad6c_\\uaddc\\ubaa8_2015\", \"scale\": {\"domain\": [100000, 700000]}, \"title\": \"\\uc778\\uad6c \\uaddc\\ubaa8 (\\ub2e8\\uc704:\\uba85)\"}, \"y\": {\"type\": \"quantitative\", \"field\": \"CCTV_\\uaddc\\ubaa8_2015\", \"scale\": {\"domain\": [0, 7000]}, \"title\": \"CCTV \\uc124\\uce58 \\uaddc\\ubaa8 (\\ub2e8\\uc704:\\ub300)\"}}, \"height\": 500, \"transform\": [{\"calculate\": \"datum.CCTV_\\uaddc\\ubaa8_2015 / datum.\\uc778\\uad6c_\\uaddc\\ubaa8_2015 *100\", \"as\": \"CCTV_\\ube44\\uc728\"}, {\"on\": \"\\uc778\\uad6c_\\uaddc\\ubaa8_2015\", \"regression\": \"CCTV_\\uaddc\\ubaa8_2015\"}], \"width\": 600}]}, {\"layer\": [{\"mark\": \"circle\", \"encoding\": {\"color\": {\"value\": \"red\"}, \"opacity\": {\"value\": 0.5}, \"order\": {\"type\": \"quantitative\", \"field\": \"CCTV_\\ube44\\uc728\", \"sort\": \"descending\"}, \"size\": {\"type\": \"quantitative\", \"field\": \"CCTV_\\ube44\\uc728\", \"legend\": null, \"scale\": {\"range\": [10, 1000]}}, \"tooltip\": [{\"type\": \"nominal\", \"field\": \"\\uc790\\uce58\\uad6c\"}, {\"type\": \"quantitative\", \"field\": \"CCTV_\\ube44\\uc728\", \"format\": \".1%\"}, {\"type\": \"quantitative\", \"field\": \"CCTV_\\uaddc\\ubaa8_2020\"}, {\"type\": \"quantitative\", \"field\": \"\\uc778\\uad6c_\\uaddc\\ubaa8_2020\"}], \"x\": {\"type\": \"quantitative\", \"field\": \"\\uc778\\uad6c_\\uaddc\\ubaa8_2020\", \"scale\": {\"domain\": [100000, 700000]}, \"title\": \"\\uc778\\uad6c \\uaddc\\ubaa8 (\\ub2e8\\uc704:\\uba85)\"}, \"y\": {\"type\": \"quantitative\", \"field\": \"CCTV_\\uaddc\\ubaa8_2020\", \"scale\": {\"domain\": [0, 7000]}, \"title\": \"CCTV \\uc124\\uce58 \\uaddc\\ubaa8 (\\ub2e8\\uc704:\\ub300)\"}}, \"height\": 500, \"transform\": [{\"calculate\": \"datum.CCTV_\\uaddc\\ubaa8_2020 / datum.\\uc778\\uad6c_\\uaddc\\ubaa8_2020 *100\", \"as\": \"CCTV_\\ube44\\uc728\"}], \"width\": 600}, {\"mark\": {\"type\": \"line\", \"opacity\": 0.5}, \"encoding\": {\"color\": {\"value\": \"red\"}, \"opacity\": {\"value\": 0.5}, \"order\": {\"type\": \"quantitative\", \"field\": \"CCTV_\\ube44\\uc728\", \"sort\": \"descending\"}, \"size\": {\"type\": \"quantitative\", \"field\": \"CCTV_\\ube44\\uc728\", \"legend\": null, \"scale\": {\"range\": [10, 1000]}}, \"tooltip\": [{\"type\": \"nominal\", \"field\": \"\\uc790\\uce58\\uad6c\"}, {\"type\": \"quantitative\", \"field\": \"CCTV_\\ube44\\uc728\", \"format\": \".1%\"}, {\"type\": \"quantitative\", \"field\": \"CCTV_\\uaddc\\ubaa8_2020\"}, {\"type\": \"quantitative\", \"field\": \"\\uc778\\uad6c_\\uaddc\\ubaa8_2020\"}], \"x\": {\"type\": \"quantitative\", \"field\": \"\\uc778\\uad6c_\\uaddc\\ubaa8_2020\", \"scale\": {\"domain\": [100000, 700000]}, \"title\": \"\\uc778\\uad6c \\uaddc\\ubaa8 (\\ub2e8\\uc704:\\uba85)\"}, \"y\": {\"type\": \"quantitative\", \"field\": \"CCTV_\\uaddc\\ubaa8_2020\", \"scale\": {\"domain\": [0, 7000]}, \"title\": \"CCTV \\uc124\\uce58 \\uaddc\\ubaa8 (\\ub2e8\\uc704:\\ub300)\"}}, \"height\": 500, \"transform\": [{\"calculate\": \"datum.CCTV_\\uaddc\\ubaa8_2020 / datum.\\uc778\\uad6c_\\uaddc\\ubaa8_2020 *100\", \"as\": \"CCTV_\\ube44\\uc728\"}, {\"on\": \"\\uc778\\uad6c_\\uaddc\\ubaa8_2020\", \"regression\": \"CCTV_\\uaddc\\ubaa8_2020\"}], \"width\": 600}]}, {\"mark\": \"line\", \"encoding\": {\"color\": {\"type\": \"quantitative\", \"field\": \"\\uc99d\\uac00\\uc728\", \"legend\": null}, \"size\": {\"type\": \"quantitative\", \"field\": \"\\uc99d\\uac00\\uc728\", \"legend\": null}, \"tooltip\": [{\"type\": \"nominal\", \"field\": \"\\uc790\\uce58\\uad6c\"}, {\"type\": \"quantitative\", \"field\": \"\\uc99d\\uac00\\uc728\", \"format\": \".1%\"}], \"x\": {\"type\": \"quantitative\", \"field\": \"\\uc778\\uad6c_\\uaddc\\ubaa8_2015\", \"scale\": {\"domain\": [100000, 700000]}}, \"x2\": {\"field\": \"\\uc778\\uad6c_\\uaddc\\ubaa8_2020\"}, \"y\": {\"type\": \"quantitative\", \"field\": \"CCTV_\\uaddc\\ubaa8_2015\", \"scale\": {\"domain\": [0, 7000]}}, \"y2\": {\"field\": \"CCTV_\\uaddc\\ubaa8_2020\"}}, \"height\": 400, \"transform\": [{\"calculate\": \"(datum.CCTV_\\uaddc\\ubaa8_2020 - datum.CCTV_\\uaddc\\ubaa8_2015)/datum.CCTV_\\uaddc\\ubaa8_2015\", \"as\": \"\\uc99d\\uac00\\uc728\"}], \"width\": 600}], \"data\": {\"name\": \"data-45ff08f1c85640db9e6eb2564c10a79f\"}, \"resolve\": {\"scale\": {\"color\": \"independent\", \"size\": \"independent\"}}, \"title\": {\"text\": [\"\\uc790\\uce58\\uad6c\\ubcc4 \\uc778\\uad6c \\ub300\\ube44 CCTV \\uc124\\uce58 \\uaddc\\ubaa8\", \"(2015\\ub144 \\ub300 2020\\ub144)\"], \"subtitle\": [\"- 2015\\ub144\\uc740 \\ud478\\ub978\\uc0c9, 2020\\ub144\\uc740 \\ube68\\uac04\\uc0c9 \\uc6d0\\uc73c\\ub85c \\ud45c\\uc2dc\", \"- \\uc6d0 \\ud06c\\uae30\\ub294 \\uc778\\uad6c \\ub300\\ube44 CCTV \\ube44\\uc728\", \"- \\uc9c1\\uc120 \\ub450\\uaed8\\uc640 \\uc0c9\\uc0c1\\uc740 2015\\ub144 \\ub300\\ube44 2020\\ub144 \\uc99d\\uac00\\uc728\"]}, \"$schema\": \"https://vega.github.io/schema/vega-lite/v4.8.1.json\", \"datasets\": {\"data-45ff08f1c85640db9e6eb2564c10a79f\": [{\"no\": 6, \"id\": 1, \"\\uc790\\uce58\\uad6c\": \"\\uc885\\ub85c\\uad6c\", \"CCTV_\\uaddc\\ubaa8_2015\": 1175, \"CCTV_\\uaddc\\ubaa8_2020\": 1729, \"\\uc778\\uad6c_\\uaddc\\ubaa8_2015\": 163822, \"\\uc778\\uad6c_\\uaddc\\ubaa8_2020\": 158996}, {\"no\": 11, \"id\": 2, \"\\uc790\\uce58\\uad6c\": \"\\uc911\\uad6c\", \"CCTV_\\uaddc\\ubaa8_2015\": 654, \"CCTV_\\uaddc\\ubaa8_2020\": 2001, \"\\uc778\\uad6c_\\uaddc\\ubaa8_2015\": 134329, \"\\uc778\\uad6c_\\uaddc\\ubaa8_2020\": 134635}, {\"no\": 24, \"id\": 3, \"\\uc790\\uce58\\uad6c\": \"\\uc6a9\\uc0b0\\uad6c\", \"CCTV_\\uaddc\\ubaa8_2015\": 685, \"CCTV_\\uaddc\\ubaa8_2020\": 2383, \"\\uc778\\uad6c_\\uaddc\\ubaa8_2015\": 247909, \"\\uc778\\uad6c_\\uaddc\\ubaa8_2020\": 244645}, {\"no\": 20, \"id\": 4, \"\\uc790\\uce58\\uad6c\": \"\\uc131\\ub3d9\\uad6c\", \"CCTV_\\uaddc\\ubaa8_2015\": 1289, \"CCTV_\\uaddc\\ubaa8_2020\": 3515, \"\\uc778\\uad6c_\\uaddc\\ubaa8_2015\": 305065, \"\\uc778\\uad6c_\\uaddc\\ubaa8_2020\": 300505}, {\"no\": 13, \"id\": 5, \"\\uc790\\uce58\\uad6c\": \"\\uad11\\uc9c4\\uad6c\", \"CCTV_\\uaddc\\ubaa8_2015\": 477, \"CCTV_\\uaddc\\ubaa8_2020\": 2556, \"\\uc778\\uad6c_\\uaddc\\ubaa8_2015\": 375180, \"\\uc778\\uad6c_\\uaddc\\ubaa8_2020\": 360109}, {\"no\": 2, \"id\": 6, \"\\uc790\\uce58\\uad6c\": \"\\ub3d9\\ub300\\ubb38\\uad6c\", \"CCTV_\\uaddc\\ubaa8_2015\": 1436, \"CCTV_\\uaddc\\ubaa8_2020\": 2315, \"\\uc778\\uad6c_\\uaddc\\ubaa8_2015\": 373824, \"\\uc778\\uad6c_\\uaddc\\ubaa8_2020\": 357014}, {\"no\": 8, \"id\": 7, \"\\uc790\\uce58\\uad6c\": \"\\uc911\\ub791\\uad6c\", \"CCTV_\\uaddc\\ubaa8_2015\": 821, \"CCTV_\\uaddc\\ubaa8_2020\": 3285, \"\\uc778\\uad6c_\\uaddc\\ubaa8_2015\": 418620, \"\\uc778\\uad6c_\\uaddc\\ubaa8_2020\": 399562}, {\"no\": 17, \"id\": 8, \"\\uc790\\uce58\\uad6c\": \"\\uc131\\ubd81\\uad6c\", \"CCTV_\\uaddc\\ubaa8_2015\": 897, \"CCTV_\\uaddc\\ubaa8_2020\": 3754, \"\\uc778\\uad6c_\\uaddc\\ubaa8_2015\": 469560, \"\\uc778\\uad6c_\\uaddc\\ubaa8_2020\": 447056}, {\"no\": 7, \"id\": 9, \"\\uc790\\uce58\\uad6c\": \"\\uac15\\ubd81\\uad6c\", \"CCTV_\\uaddc\\ubaa8_2015\": 270, \"CCTV_\\uaddc\\ubaa8_2020\": 2462, \"\\uc778\\uad6c_\\uaddc\\ubaa8_2015\": 334426, \"\\uc778\\uad6c_\\uaddc\\ubaa8_2020\": 311569}, {\"no\": 0, \"id\": 10, \"\\uc790\\uce58\\uad6c\": \"\\ub3c4\\ubd09\\uad6c\", \"CCTV_\\uaddc\\ubaa8_2015\": 434, \"CCTV_\\uaddc\\ubaa8_2020\": 1356, \"\\uc778\\uad6c_\\uaddc\\ubaa8_2015\": 353241, \"\\uc778\\uad6c_\\uaddc\\ubaa8_2020\": 327361}, {\"no\": 18, \"id\": 11, \"\\uc790\\uce58\\uad6c\": \"\\ub178\\uc6d0\\uad6c\", \"CCTV_\\uaddc\\ubaa8_2015\": 909, \"CCTV_\\uaddc\\ubaa8_2020\": 2282, \"\\uc778\\uad6c_\\uaddc\\ubaa8_2015\": 578221, \"\\uc778\\uad6c_\\uaddc\\ubaa8_2020\": 527032}, {\"no\": 1, \"id\": 12, \"\\uc790\\uce58\\uad6c\": \"\\uc740\\ud3c9\\uad6c\", \"CCTV_\\uaddc\\ubaa8_2015\": 722, \"CCTV_\\uaddc\\ubaa8_2020\": 3660, \"\\uc778\\uad6c_\\uaddc\\ubaa8_2015\": 502578, \"\\uc778\\uad6c_\\uaddc\\ubaa8_2020\": 484043}, {\"no\": 21, \"id\": 13, \"\\uc790\\uce58\\uad6c\": \"\\uc11c\\ub300\\ubb38\\uad6c\", \"CCTV_\\uaddc\\ubaa8_2015\": 1235, \"CCTV_\\uaddc\\ubaa8_2020\": 2939, \"\\uc778\\uad6c_\\uaddc\\ubaa8_2015\": 323105, \"\\uc778\\uad6c_\\uaddc\\ubaa8_2020\": 322952}, {\"no\": 14, \"id\": 14, \"\\uc790\\uce58\\uad6c\": \"\\ub9c8\\ud3ec\\uad6c\", \"CCTV_\\uaddc\\ubaa8_2015\": 729, \"CCTV_\\uaddc\\ubaa8_2020\": 2401, \"\\uc778\\uad6c_\\uaddc\\ubaa8_2015\": 398351, \"\\uc778\\uad6c_\\uaddc\\ubaa8_2020\": 381858}, {\"no\": 22, \"id\": 15, \"\\uc790\\uce58\\uad6c\": \"\\uc591\\ucc9c\\uad6c\", \"CCTV_\\uaddc\\ubaa8_2015\": 2241, \"CCTV_\\uaddc\\ubaa8_2020\": 3307, \"\\uc778\\uad6c_\\uaddc\\ubaa8_2015\": 489010, \"\\uc778\\uad6c_\\uaddc\\ubaa8_2020\": 457781}, {\"no\": 10, \"id\": 16, \"\\uc790\\uce58\\uad6c\": \"\\uac15\\uc11c\\uad6c\", \"CCTV_\\uaddc\\ubaa8_2015\": 691, \"CCTV_\\uaddc\\ubaa8_2020\": 2437, \"\\uc778\\uad6c_\\uaddc\\ubaa8_2015\": 595691, \"\\uc778\\uad6c_\\uaddc\\ubaa8_2020\": 585901}, {\"no\": 5, \"id\": 17, \"\\uc790\\uce58\\uad6c\": \"\\uad6c\\ub85c\\uad6c\", \"CCTV_\\uaddc\\ubaa8_2015\": 1872, \"CCTV_\\uaddc\\ubaa8_2020\": 4075, \"\\uc778\\uad6c_\\uaddc\\ubaa8_2015\": 454604, \"\\uc778\\uad6c_\\uaddc\\ubaa8_2020\": 432488}, {\"no\": 4, \"id\": 18, \"\\uc790\\uce58\\uad6c\": \"\\uae08\\ucc9c\\uad6c\", \"CCTV_\\uaddc\\ubaa8_2015\": 619, \"CCTV_\\uaddc\\ubaa8_2020\": 2365, \"\\uc778\\uad6c_\\uaddc\\ubaa8_2015\": 256167, \"\\uc778\\uad6c_\\uaddc\\ubaa8_2020\": 247835}, {\"no\": 23, \"id\": 19, \"\\uc790\\uce58\\uad6c\": \"\\uc601\\ub4f1\\ud3ec\\uad6c\", \"CCTV_\\uaddc\\ubaa8_2015\": 1278, \"CCTV_\\uaddc\\ubaa8_2020\": 3773, \"\\uc778\\uad6c_\\uaddc\\ubaa8_2015\": 417811, \"\\uc778\\uad6c_\\uaddc\\ubaa8_2020\": 407367}, {\"no\": 3, \"id\": 20, \"\\uc790\\uce58\\uad6c\": \"\\ub3d9\\uc791\\uad6c\", \"CCTV_\\uaddc\\ubaa8_2015\": 993, \"CCTV_\\uaddc\\ubaa8_2020\": 2262, \"\\uc778\\uad6c_\\uaddc\\ubaa8_2015\": 412774, \"\\uc778\\uad6c_\\uaddc\\ubaa8_2020\": 401572}, {\"no\": 15, \"id\": 21, \"\\uc790\\uce58\\uad6c\": \"\\uad00\\uc545\\uad6c\", \"CCTV_\\uaddc\\ubaa8_2015\": 2004, \"CCTV_\\uaddc\\ubaa8_2020\": 4909, \"\\uc778\\uad6c_\\uaddc\\ubaa8_2015\": 529031, \"\\uc778\\uad6c_\\uaddc\\ubaa8_2020\": 509803}, {\"no\": 16, \"id\": 22, \"\\uc790\\uce58\\uad6c\": \"\\uc11c\\ucd08\\uad6c\", \"CCTV_\\uaddc\\ubaa8_2015\": 916, \"CCTV_\\uaddc\\ubaa8_2020\": 3730, \"\\uc778\\uad6c_\\uaddc\\ubaa8_2015\": 451258, \"\\uc778\\uad6c_\\uaddc\\ubaa8_2020\": 429025}, {\"no\": 9, \"id\": 23, \"\\uc790\\uce58\\uad6c\": \"\\uac15\\ub0a8\\uad6c\", \"CCTV_\\uaddc\\ubaa8_2015\": 1863, \"CCTV_\\uaddc\\ubaa8_2020\": 6645, \"\\uc778\\uad6c_\\uaddc\\ubaa8_2015\": 581760, \"\\uc778\\uad6c_\\uaddc\\ubaa8_2020\": 544055}, {\"no\": 19, \"id\": 24, \"\\uc790\\uce58\\uad6c\": \"\\uc1a1\\ud30c\\uad6c\", \"CCTV_\\uaddc\\ubaa8_2015\": 520, \"CCTV_\\uaddc\\ubaa8_2020\": 2743, \"\\uc778\\uad6c_\\uaddc\\ubaa8_2015\": 667480, \"\\uc778\\uad6c_\\uaddc\\ubaa8_2020\": 673926}, {\"no\": 12, \"id\": 25, \"\\uc790\\uce58\\uad6c\": \"\\uac15\\ub3d9\\uad6c\", \"CCTV_\\uaddc\\ubaa8_2015\": 725, \"CCTV_\\uaddc\\ubaa8_2020\": 2547, \"\\uc778\\uad6c_\\uaddc\\ubaa8_2015\": 463321, \"\\uc778\\uad6c_\\uaddc\\ubaa8_2020\": 463998}]}}, {\"mode\": \"vega-lite\"});\n",
              "</script>"
            ],
            "text/plain": [
              "alt.LayerChart(...)"
            ]
          },
          "execution_count": 9,
          "metadata": {},
          "output_type": "execute_result"
        }
      ],
      "source": [
        "# 시각화 결과 통합\n",
        "\n",
        "layer = alt.layer(\n",
        "        bb_reg_2015,\n",
        "        bb_reg_2020,\n",
        "        move\n",
        ").resolve_scale(\n",
        "    color='independent',\n",
        "    size = 'independent'\n",
        ").properties(\n",
        "    title = {\n",
        "        \"text\": [\"자치구별 인구 대비 CCTV 설치 규모\", \"(2015년 대 2020년)\"],\n",
        "        \"subtitle\": [\"- 2015년은 푸른색, 2020년은 빨간색 원으로 표시\", \"- 원 크기는 인구 대비 CCTV 비율\", \"- 직선 두께와 색상은 2015년 대비 2020년 증가율\"]\n",
        "    }\n",
        ")\n",
        "layer"
      ]
    },
    {
      "cell_type": "markdown",
      "id": "2d334ad1",
      "metadata": {
        "id": "2d334ad1"
      },
      "source": [
        "## 4. 단계구분도 시각화\n",
        "\n",
        "### 4.1 자치구 위치 시각화"
      ]
    },
    {
      "cell_type": "code",
      "execution_count": null,
      "id": "7413c1c3",
      "metadata": {
        "scrolled": true,
        "id": "7413c1c3",
        "outputId": "0014bc42-eb91-43c4-862e-60eda90a38e5"
      },
      "outputs": [
        {
          "data": {
            "text/html": [
              "\n",
              "<div id=\"altair-viz-7c31179fd2d447c6821e9b5593944247\"></div>\n",
              "<script type=\"text/javascript\">\n",
              "  (function(spec, embedOpt){\n",
              "    let outputDiv = document.currentScript.previousElementSibling;\n",
              "    if (outputDiv.id !== \"altair-viz-7c31179fd2d447c6821e9b5593944247\") {\n",
              "      outputDiv = document.getElementById(\"altair-viz-7c31179fd2d447c6821e9b5593944247\");\n",
              "    }\n",
              "    const paths = {\n",
              "      \"vega\": \"https://cdn.jsdelivr.net/npm//vega@5?noext\",\n",
              "      \"vega-lib\": \"https://cdn.jsdelivr.net/npm//vega-lib?noext\",\n",
              "      \"vega-lite\": \"https://cdn.jsdelivr.net/npm//vega-lite@4.8.1?noext\",\n",
              "      \"vega-embed\": \"https://cdn.jsdelivr.net/npm//vega-embed@6?noext\",\n",
              "    };\n",
              "\n",
              "    function loadScript(lib) {\n",
              "      return new Promise(function(resolve, reject) {\n",
              "        var s = document.createElement('script');\n",
              "        s.src = paths[lib];\n",
              "        s.async = true;\n",
              "        s.onload = () => resolve(paths[lib]);\n",
              "        s.onerror = () => reject(`Error loading script: ${paths[lib]}`);\n",
              "        document.getElementsByTagName(\"head\")[0].appendChild(s);\n",
              "      });\n",
              "    }\n",
              "\n",
              "    function showError(err) {\n",
              "      outputDiv.innerHTML = `<div class=\"error\" style=\"color:red;\">${err}</div>`;\n",
              "      throw err;\n",
              "    }\n",
              "\n",
              "    function displayChart(vegaEmbed) {\n",
              "      vegaEmbed(outputDiv, spec, embedOpt)\n",
              "        .catch(err => showError(`Javascript Error: ${err.message}<br>This usually means there's a typo in your chart specification. See the javascript console for the full traceback.`));\n",
              "    }\n",
              "\n",
              "    if(typeof define === \"function\" && define.amd) {\n",
              "      requirejs.config({paths});\n",
              "      require([\"vega-embed\"], displayChart, err => showError(`Error loading script: ${err.message}`));\n",
              "    } else if (typeof vegaEmbed === \"function\") {\n",
              "      displayChart(vegaEmbed);\n",
              "    } else {\n",
              "      loadScript(\"vega\")\n",
              "        .then(() => loadScript(\"vega-lite\"))\n",
              "        .then(() => loadScript(\"vega-embed\"))\n",
              "        .catch(showError)\n",
              "        .then(() => displayChart(vegaEmbed));\n",
              "    }\n",
              "  })({\"config\": {\"view\": {\"continuousWidth\": 400, \"continuousHeight\": 300}}, \"data\": {\"name\": \"data-d51d564e85e5c2ac393a6a28d0ca2243\"}, \"mark\": \"circle\", \"encoding\": {\"latitude\": {\"field\": \"\\uc704\\ub3c4\", \"type\": \"quantitative\"}, \"longitude\": {\"field\": \"\\uacbd\\ub3c4\", \"type\": \"quantitative\"}, \"size\": {\"value\": 50}, \"tooltip\": {\"type\": \"nominal\", \"field\": \"\\uc790\\uce58\\uad6c\\uccad\"}}, \"height\": 300, \"width\": 400, \"$schema\": \"https://vega.github.io/schema/vega-lite/v4.8.1.json\", \"datasets\": {\"data-d51d564e85e5c2ac393a6a28d0ca2243\": [{\"\\uc790\\uce58\\uad6c\": \"\\uc885\\ub85c\\uad6c\", \"\\uc790\\uce58\\uad6c\\uccad\": \"\\uc885\\ub85c\\uad6c\\uccad\", \"\\uc704\\ub3c4\": 37.5727864, \"\\uacbd\\ub3c4\": 126.9791778, \"\\uc8fc\\uc18c\": \"\\ub300\\ud55c\\ubbfc\\uad6d \\uc11c\\uc6b8\\ud2b9\\ubcc4\\uc2dc \\uc885\\ub85c\\uad6c \\uc218\\uc1a1\\ub3d9 \\uc0bc\\ubd09\\ub85c 43\"}, {\"\\uc790\\uce58\\uad6c\": \"\\uc911\\uad6c\", \"\\uc790\\uce58\\uad6c\\uccad\": \"\\uc911\\uad6c\\uccad\", \"\\uc704\\ub3c4\": 37.5637584, \"\\uacbd\\ub3c4\": 126.9975517, \"\\uc8fc\\uc18c\": \"\\ub300\\ud55c\\ubbfc\\uad6d \\uc11c\\uc6b8\\ud2b9\\ubcc4\\uc2dc \\uc911\\uad6c \\uc608\\uad00\\ub3d9 \\ucc3d\\uacbd\\uad81\\ub85c 17\"}, {\"\\uc790\\uce58\\uad6c\": \"\\uc6a9\\uc0b0\\uad6c\", \"\\uc790\\uce58\\uad6c\\uccad\": \"\\uc6a9\\uc0b0\\uad6c\\uccad\", \"\\uc704\\ub3c4\": 37.5325896, \"\\uacbd\\ub3c4\": 126.9900429, \"\\uc8fc\\uc18c\": \"\\ub300\\ud55c\\ubbfc\\uad6d \\uc11c\\uc6b8\\ud2b9\\ubcc4\\uc2dc \\uc6a9\\uc0b0\\uad6c \\uc774\\ud0dc\\uc6d0\\ub3d9 \\ub179\\uc0ac\\ud3c9\\ub300\\ub85c 150\"}, {\"\\uc790\\uce58\\uad6c\": \"\\uc131\\ub3d9\\uad6c\", \"\\uc790\\uce58\\uad6c\\uccad\": \"\\uc131\\ub3d9\\uad6c\\uccad\", \"\\uc704\\ub3c4\": 37.5630725, \"\\uacbd\\ub3c4\": 127.0366688, \"\\uc8fc\\uc18c\": \"\\ub300\\ud55c\\ubbfc\\uad6d \\uc11c\\uc6b8\\ud2b9\\ubcc4\\uc2dc \\uc131\\ub3d9\\uad6c \\ud589\\ub2f9\\ub3d9 \\uace0\\uc0b0\\uc790\\ub85c 270\"}, {\"\\uc790\\uce58\\uad6c\": \"\\uad11\\uc9c4\\uad6c\", \"\\uc790\\uce58\\uad6c\\uccad\": \"\\uad11\\uc9c4\\uad6c\\uccad\", \"\\uc704\\ub3c4\": 37.5385333, \"\\uacbd\\ub3c4\": 127.0823772, \"\\uc8fc\\uc18c\": \"\\ub300\\ud55c\\ubbfc\\uad6d \\uc11c\\uc6b8\\ud2b9\\ubcc4\\uc2dc \\uad11\\uc9c4\\uad6c \\uc790\\uc5911\\ub3d9 \\uc790\\uc591\\ub85c 117\"}, {\"\\uc790\\uce58\\uad6c\": \"\\ub3d9\\ub300\\ubb38\\uad6c\", \"\\uc790\\uce58\\uad6c\\uccad\": \"\\ub3d9\\ub300\\ubb38\\uad6c\\uccad\", \"\\uc704\\ub3c4\": 37.5744155, \"\\uacbd\\ub3c4\": 127.0397427, \"\\uc8fc\\uc18c\": \"\\ub300\\ud55c\\ubbfc\\uad6d \\uc11c\\uc6b8\\ud2b9\\ubcc4\\uc2dc \\ub3d9\\ub300\\ubb38\\uad6c \\uc6a9\\ub450\\ub3d9 \\ucc9c\\ud638\\ub300\\ub85c 145\"}, {\"\\uc790\\uce58\\uad6c\": \"\\uc911\\ub791\\uad6c\", \"\\uc790\\uce58\\uad6c\\uccad\": \"\\uc911\\ub791\\uad6c\\uccad\", \"\\uc704\\ub3c4\": 37.60656, \"\\uacbd\\ub3c4\": 127.092624, \"\\uc8fc\\uc18c\": \"\\ub300\\ud55c\\ubbfc\\uad6d \\uc11c\\uc6b8\\ud2b9\\ubcc4\\uc2dc \\uc911\\ub791\\uad6c \\uc2e0\\ub0b4\\ub3d9 662\"}, {\"\\uc790\\uce58\\uad6c\": \"\\uc131\\ubd81\\uad6c\", \"\\uc790\\uce58\\uad6c\\uccad\": \"\\uc131\\ubd81\\uad6c\\uccad\", \"\\uc704\\ub3c4\": 37.589366, \"\\uacbd\\ub3c4\": 127.016743, \"\\uc8fc\\uc18c\": \"\\ub300\\ud55c\\ubbfc\\uad6d \\uc11c\\uc6b8\\ud2b9\\ubcc4\\uc2dc \\uc131\\ubd81\\uad6c \\uc0bc\\uc120\\ub3d9 \\ubcf4\\ubb38\\ub85c 168\"}, {\"\\uc790\\uce58\\uad6c\": \"\\uac15\\ubd81\\uad6c\", \"\\uc790\\uce58\\uad6c\\uccad\": \"\\uac15\\ubd81\\uad6c\\uccad\", \"\\uc704\\ub3c4\": 37.6397767, \"\\uacbd\\ub3c4\": 127.0255184, \"\\uc8fc\\uc18c\": \"\\ub300\\ud55c\\ubbfc\\uad6d \\uc11c\\uc6b8\\ud2b9\\ubcc4\\uc2dc \\uac15\\ubd81\\uad6c \\uc218\\uc720\\ub3d9 \\ub3c4\\ubd09\\ub85c89\\uae38 13\"}, {\"\\uc790\\uce58\\uad6c\": \"\\ub3c4\\ubd09\\uad6c\", \"\\uc790\\uce58\\uad6c\\uccad\": \"\\ub3c4\\ubd09\\uad6c\\uccad\", \"\\uc704\\ub3c4\": 37.6687735, \"\\uacbd\\ub3c4\": 127.047071, \"\\uc8fc\\uc18c\": \"\\ub300\\ud55c\\ubbfc\\uad6d \\uc11c\\uc6b8\\ud2b9\\ubcc4\\uc2dc \\ub3c4\\ubd09\\uad6c \\ubc29\\ud559\\ub3d9 \\ub9c8\\ub4e4\\ub85c 656\"}, {\"\\uc790\\uce58\\uad6c\": \"\\ub178\\uc6d0\\uad6c\", \"\\uc790\\uce58\\uad6c\\uccad\": \"\\ub178\\uc6d0\\uad6c\\uccad\", \"\\uc704\\ub3c4\": 37.6540471, \"\\uacbd\\ub3c4\": 127.0563372, \"\\uc8fc\\uc18c\": \"\\ub300\\ud55c\\ubbfc\\uad6d \\uc11c\\uc6b8\\ud2b9\\ubcc4\\uc2dc \\ub178\\uc6d0\\uad6c \\uc0c1\\uacc46.7\\ub3d9 \\ub178\\ud574\\ub85c 437\"}, {\"\\uc790\\uce58\\uad6c\": \"\\uc740\\ud3c9\\uad6c\", \"\\uc790\\uce58\\uad6c\\uccad\": \"\\uc740\\ud3c9\\uad6c\\uccad\", \"\\uc704\\ub3c4\": 37.6027496, \"\\uacbd\\ub3c4\": 126.9292386, \"\\uc8fc\\uc18c\": \"\\ub300\\ud55c\\ubbfc\\uad6d \\uc11c\\uc6b8\\ud2b9\\ubcc4\\uc2dc \\uc740\\ud3c9\\uad6c \\ub179\\ubc88\\ub3d9 \\uc740\\ud3c9\\ub85c 195\"}, {\"\\uc790\\uce58\\uad6c\": \"\\uc11c\\ub300\\ubb38\\uad6c\", \"\\uc790\\uce58\\uad6c\\uccad\": \"\\uc11c\\ub300\\ubb38\\uad6c\\uccad\", \"\\uc704\\ub3c4\": 37.5791728, \"\\uacbd\\ub3c4\": 126.9367815, \"\\uc8fc\\uc18c\": \"\\ub300\\ud55c\\ubbfc\\uad6d \\uc11c\\uc6b8\\ud2b9\\ubcc4\\uc2dc \\uc11c\\ub300\\ubb38\\uad6c \\uc5f0\\ud76c\\ub3d9 \\uc5f0\\ud76c\\ub85c 248\"}, {\"\\uc790\\uce58\\uad6c\": \"\\ub9c8\\ud3ec\\uad6c\", \"\\uc790\\uce58\\uad6c\\uccad\": \"\\ub9c8\\ud3ec\\uad6c\\uccad\", \"\\uc704\\ub3c4\": 37.5662001, \"\\uacbd\\ub3c4\": 126.9016437, \"\\uc8fc\\uc18c\": \"\\ub300\\ud55c\\ubbfc\\uad6d \\uc11c\\uc6b8\\ud2b9\\ubcc4\\uc2dc \\ub9c8\\ud3ec\\uad6c \\uc131\\uc0b02\\ub3d9 \\uc6d4\\ub4dc\\ucef5\\ub85c 212\"}, {\"\\uc790\\uce58\\uad6c\": \"\\uc591\\ucc9c\\uad6c\", \"\\uc790\\uce58\\uad6c\\uccad\": \"\\uc591\\ucc9c\\uad6c\\uccad\", \"\\uc704\\ub3c4\": 37.5169508, \"\\uacbd\\ub3c4\": 126.8665644, \"\\uc8fc\\uc18c\": \"\\ub300\\ud55c\\ubbfc\\uad6d \\uc11c\\uc6b8\\ud2b9\\ubcc4\\uc2dc \\uc591\\ucc9c\\uad6c \\uc2e0\\uc8156\\ub3d9 \\ubaa9\\ub3d9\\ub3d9\\ub85c 105\"}, {\"\\uc790\\uce58\\uad6c\": \"\\uac15\\uc11c\\uad6c\", \"\\uc790\\uce58\\uad6c\\uccad\": \"\\uac15\\uc11c\\uad6c\\uccad\", \"\\uc704\\ub3c4\": 37.5509103, \"\\uacbd\\ub3c4\": 126.8495742, \"\\uc8fc\\uc18c\": \"\\ub300\\ud55c\\ubbfc\\uad6d \\uc11c\\uc6b8\\ud2b9\\ubcc4\\uc2dc \\uac15\\uc11c\\uad6c \\ud654\\uace1\\ub3d9 \\ud654\\uace1\\ub85c 302\"}, {\"\\uc790\\uce58\\uad6c\": \"\\uad6c\\ub85c\\uad6c\", \"\\uc790\\uce58\\uad6c\\uccad\": \"\\uad6c\\ub85c\\uad6c\\uccad\", \"\\uc704\\ub3c4\": 37.4954703, \"\\uacbd\\ub3c4\": 126.8876391, \"\\uc8fc\\uc18c\": \"\\ub300\\ud55c\\ubbfc\\uad6d \\uc11c\\uc6b8\\ud2b9\\ubcc4\\uc2dc \\uad6c\\ub85c\\uad6c \\uad6c\\ub85c\\ub3d9 \\uac00\\ub9c8\\uc0b0\\ub85c 245\"}, {\"\\uc790\\uce58\\uad6c\": \"\\uae08\\ucc9c\\uad6c\", \"\\uc790\\uce58\\uad6c\\uccad\": \"\\uae08\\ucc9c\\uad6c\\uccad\", \"\\uc704\\ub3c4\": 37.4518527, \"\\uacbd\\ub3c4\": 126.9020358, \"\\uc8fc\\uc18c\": \"\\ub300\\ud55c\\ubbfc\\uad6d \\uc11c\\uc6b8\\ud2b9\\ubcc4\\uc2dc \\uae08\\ucc9c\\uad6c\"}, {\"\\uc790\\uce58\\uad6c\": \"\\uc601\\ub4f1\\ud3ec\\uad6c\", \"\\uc790\\uce58\\uad6c\\uccad\": \"\\uc601\\ub4f1\\ud3ec\\uad6c\\uccad\", \"\\uc704\\ub3c4\": 37.526344, \"\\uacbd\\ub3c4\": 126.896256, \"\\uc8fc\\uc18c\": \"\\ub300\\ud55c\\ubbfc\\uad6d \\uc11c\\uc6b8\\ud2b9\\ubcc4\\uc2dc \\uc601\\ub4f1\\ud3ec\\uad6c \\ub2f9\\uc0b0\\ub3d93\\uac00 \\ub2f9\\uc0b0\\ub85c 123\"}, {\"\\uc790\\uce58\\uad6c\": \"\\ub3d9\\uc791\\uad6c\", \"\\uc790\\uce58\\uad6c\\uccad\": \"\\ub3d9\\uc791\\uad6c\\uccad\", \"\\uc704\\ub3c4\": 37.5124298, \"\\uacbd\\ub3c4\": 126.9397997, \"\\uc8fc\\uc18c\": \"\\ub300\\ud55c\\ubbfc\\uad6d \\uc11c\\uc6b8\\ud2b9\\ubcc4\\uc2dc \\ub3d9\\uc791\\uad6c \\ub178\\ub7c9\\uc9c42\\ub3d9 \\uc7a5\\uc2b9\\ubc30\\uae30\\ub85c 161\"}, {\"\\uc790\\uce58\\uad6c\": \"\\uad00\\uc545\\uad6c\", \"\\uc790\\uce58\\uad6c\\uccad\": \"\\uad00\\uc545\\uad6c\\uccad\", \"\\uc704\\ub3c4\": 37.4781285, \"\\uacbd\\ub3c4\": 126.9515024, \"\\uc8fc\\uc18c\": \"\\ub300\\ud55c\\ubbfc\\uad6d \\uc11c\\uc6b8\\ud2b9\\ubcc4\\uc2dc \\uad00\\uc545\\uad6c \\uccad\\ub8e1\\ub3d9 \\uad00\\uc545\\ub85c 145\"}, {\"\\uc790\\uce58\\uad6c\": \"\\uc11c\\ucd08\\uad6c\", \"\\uc790\\uce58\\uad6c\\uccad\": \"\\uc11c\\ucd08\\uad6c\\uccad\", \"\\uc704\\ub3c4\": 37.483574, \"\\uacbd\\ub3c4\": 127.032661, \"\\uc8fc\\uc18c\": \"\\ub300\\ud55c\\ubbfc\\uad6d \\uc11c\\uc6b8\\ud2b9\\ubcc4\\uc2dc \\uc11c\\ucd08\\uad6c \\uc11c\\ucd082\\ub3d9 \\ub0a8\\ubd80\\uc21c\\ud658\\ub85c 2584\"}, {\"\\uc790\\uce58\\uad6c\": \"\\uac15\\ub0a8\\uad6c\", \"\\uc790\\uce58\\uad6c\\uccad\": \"\\uac15\\ub0a8\\uad6c\\uccad\", \"\\uc704\\ub3c4\": 37.5172363, \"\\uacbd\\ub3c4\": 127.0473248, \"\\uc8fc\\uc18c\": \"\\ub300\\ud55c\\ubbfc\\uad6d \\uc11c\\uc6b8\\ud2b9\\ubcc4\\uc2dc \\uac15\\ub0a8\\uad6c 426\"}, {\"\\uc790\\uce58\\uad6c\": \"\\uc1a1\\ud30c\\uad6c\", \"\\uc790\\uce58\\uad6c\\uccad\": \"\\uc1a1\\ud30c\\uad6c\\uccad\", \"\\uc704\\ub3c4\": 37.5144161, \"\\uacbd\\ub3c4\": 127.1060657, \"\\uc8fc\\uc18c\": \"\\ub300\\ud55c\\ubbfc\\uad6d \\uc11c\\uc6b8\\ud2b9\\ubcc4\\uc2dc \\uc1a1\\ud30c\\uad6c \\uc2e0\\ucc9c\\ub3d9 \\uc62c\\ub9bc\\ud53d\\ub85c 326\"}, {\"\\uc790\\uce58\\uad6c\": \"\\uac15\\ub3d9\\uad6c\", \"\\uc790\\uce58\\uad6c\\uccad\": \"\\uac15\\ub3d9\\uad6c\\uccad\", \"\\uc704\\ub3c4\": 37.5302554, \"\\uacbd\\ub3c4\": 127.1237961, \"\\uc8fc\\uc18c\": \"\\ub300\\ud55c\\ubbfc\\uad6d \\uc11c\\uc6b8\\ud2b9\\ubcc4\\uc2dc \\uac15\\ub3d9\\uad6c \\uc131\\ub0b4\\ub3d9 \\uc131\\ub0b4\\ub85c 25\"}]}}, {\"mode\": \"vega-lite\"});\n",
              "</script>"
            ],
            "text/plain": [
              "alt.Chart(...)"
            ]
          },
          "execution_count": 10,
          "metadata": {},
          "output_type": "execute_result"
        }
      ],
      "source": [
        "points = alt.Chart(offices).mark_circle().encode(\n",
        "    longitude = '경도:Q',\n",
        "    latitude = '위도:Q',\n",
        "    size = alt.value(50),\n",
        "    tooltip = '자치구청'\n",
        ").properties(\n",
        "    width = 400, height = 300\n",
        ")\n",
        "\n",
        "points"
      ]
    },
    {
      "cell_type": "markdown",
      "id": "294b6007",
      "metadata": {
        "id": "294b6007"
      },
      "source": [
        "### 4.2 단계구분도를 반환하는 함수 정의"
      ]
    },
    {
      "cell_type": "code",
      "execution_count": null,
      "id": "9095f718",
      "metadata": {
        "id": "9095f718"
      },
      "outputs": [],
      "source": [
        "def map(rate, pop, cctv, year):\n",
        "  ch = alt.Chart(seoul).mark_geoshape(\n",
        "      stroke = '#aaa', strokeWidth=0.25\n",
        "  ).transform_lookup(\n",
        "      lookup = 'no',\n",
        "      from_ = alt.LookupData(data=df, key='no', fields=['자치구', 'CCTV_규모_2015', '인구_규모_2015'])\n",
        "  ).transform_calculate(\n",
        "       CCTV_비율 = 'datum.CCTV_규모_2015 / datum.인구_규모_2015 *100'.format(year)\n",
        "  ).encode(\n",
        "    color=alt.Color('CCTV_비율:Q',legend=None),\n",
        "    tooltip=['자치구:N',\n",
        "             alt.Tooltip('CCTV_비율:Q', format='.2%'),\n",
        "             alt.Tooltip('CCTV_규모_{0}'.format(year, ',d')),\n",
        "            alt.Tooltip('인구_규모_{0}'.format(year, ',d'))]\n",
        ").properties(\n",
        "      title = {\n",
        "          \"text\":\"CCTV 설치 비율\",\n",
        "          \"subtitle\":\"{0}년\".format(year)\n",
        "      },\n",
        "      width = 400, height = 300\n",
        "  )\n",
        "\n",
        "  return ch"
      ]
    },
    {
      "cell_type": "markdown",
      "id": "d94128fd",
      "metadata": {
        "id": "d94128fd"
      },
      "source": [
        "### 4.3 단계구분도 종합"
      ]
    },
    {
      "cell_type": "code",
      "execution_count": null,
      "id": "0af92f06",
      "metadata": {
        "scrolled": false,
        "id": "0af92f06",
        "outputId": "1d3cff9d-bb86-4977-98d7-41be01ebcb05"
      },
      "outputs": [
        {
          "data": {
            "text/html": [
              "\n",
              "<div id=\"altair-viz-7fff10e005334047a1b3e14888c639cd\"></div>\n",
              "<script type=\"text/javascript\">\n",
              "  (function(spec, embedOpt){\n",
              "    let outputDiv = document.currentScript.previousElementSibling;\n",
              "    if (outputDiv.id !== \"altair-viz-7fff10e005334047a1b3e14888c639cd\") {\n",
              "      outputDiv = document.getElementById(\"altair-viz-7fff10e005334047a1b3e14888c639cd\");\n",
              "    }\n",
              "    const paths = {\n",
              "      \"vega\": \"https://cdn.jsdelivr.net/npm//vega@5?noext\",\n",
              "      \"vega-lib\": \"https://cdn.jsdelivr.net/npm//vega-lib?noext\",\n",
              "      \"vega-lite\": \"https://cdn.jsdelivr.net/npm//vega-lite@4.8.1?noext\",\n",
              "      \"vega-embed\": \"https://cdn.jsdelivr.net/npm//vega-embed@6?noext\",\n",
              "    };\n",
              "\n",
              "    function loadScript(lib) {\n",
              "      return new Promise(function(resolve, reject) {\n",
              "        var s = document.createElement('script');\n",
              "        s.src = paths[lib];\n",
              "        s.async = true;\n",
              "        s.onload = () => resolve(paths[lib]);\n",
              "        s.onerror = () => reject(`Error loading script: ${paths[lib]}`);\n",
              "        document.getElementsByTagName(\"head\")[0].appendChild(s);\n",
              "      });\n",
              "    }\n",
              "\n",
              "    function showError(err) {\n",
              "      outputDiv.innerHTML = `<div class=\"error\" style=\"color:red;\">${err}</div>`;\n",
              "      throw err;\n",
              "    }\n",
              "\n",
              "    function displayChart(vegaEmbed) {\n",
              "      vegaEmbed(outputDiv, spec, embedOpt)\n",
              "        .catch(err => showError(`Javascript Error: ${err.message}<br>This usually means there's a typo in your chart specification. See the javascript console for the full traceback.`));\n",
              "    }\n",
              "\n",
              "    if(typeof define === \"function\" && define.amd) {\n",
              "      requirejs.config({paths});\n",
              "      require([\"vega-embed\"], displayChart, err => showError(`Error loading script: ${err.message}`));\n",
              "    } else if (typeof vegaEmbed === \"function\") {\n",
              "      displayChart(vegaEmbed);\n",
              "    } else {\n",
              "      loadScript(\"vega\")\n",
              "        .then(() => loadScript(\"vega-lite\"))\n",
              "        .then(() => loadScript(\"vega-embed\"))\n",
              "        .catch(showError)\n",
              "        .then(() => displayChart(vegaEmbed));\n",
              "    }\n",
              "  })({\"config\": {\"view\": {\"continuousWidth\": 400, \"continuousHeight\": 300, \"stroke\": null}}, \"hconcat\": [{\"layer\": [{\"data\": {\"url\": \"https://raw.githubusercontent.com/southkorea/seoul-maps/master/juso/2015/json/seoul_municipalities_topo.json\", \"format\": {\"feature\": \"seoul_municipalities_geo\", \"type\": \"topojson\"}}, \"mark\": {\"type\": \"geoshape\", \"stroke\": \"#aaa\", \"strokeWidth\": 0.25}, \"encoding\": {\"color\": {\"type\": \"quantitative\", \"field\": \"cctv_rate\", \"legend\": null}, \"tooltip\": [{\"type\": \"nominal\", \"field\": \"\\uc790\\uce58\\uad6c\"}, {\"type\": \"quantitative\", \"field\": \"cctv_rate\", \"format\": \".2%\"}, {\"type\": \"quantitative\", \"field\": \"CCTV_\\uaddc\\ubaa8_2015\", \"format\": \",d\"}, {\"type\": \"quantitative\", \"field\": \"\\uc778\\uad6c_\\uaddc\\ubaa8_2015\", \"format\": \",d\"}]}, \"height\": 300, \"title\": {\"text\": \"CCTV \\uc124\\uce58 \\ube44\\uc728\", \"subtitle\": \"2015\\ub144\"}, \"transform\": [{\"lookup\": \"properties.ESRI_PK\", \"from\": {\"data\": {\"name\": \"data-45ff08f1c85640db9e6eb2564c10a79f\"}, \"key\": \"no\", \"fields\": [\"\\uc790\\uce58\\uad6c\", \"CCTV_\\uaddc\\ubaa8_2015\", \"\\uc778\\uad6c_\\uaddc\\ubaa8_2015\"]}}, {\"calculate\": \"(datum.CCTV_\\uaddc\\ubaa8_2015/datum.\\uc778\\uad6c_\\uaddc\\ubaa8_2015)*100\", \"as\": \"cctv_rate\"}], \"width\": 400}, {\"data\": {\"name\": \"data-d51d564e85e5c2ac393a6a28d0ca2243\"}, \"mark\": \"circle\", \"encoding\": {\"latitude\": {\"field\": \"\\uc704\\ub3c4\", \"type\": \"quantitative\"}, \"longitude\": {\"field\": \"\\uacbd\\ub3c4\", \"type\": \"quantitative\"}, \"size\": {\"value\": 50}, \"tooltip\": {\"type\": \"nominal\", \"field\": \"\\uc790\\uce58\\uad6c\\uccad\"}}, \"height\": 300, \"width\": 400}]}, {\"layer\": [{\"data\": {\"url\": \"https://raw.githubusercontent.com/southkorea/seoul-maps/master/juso/2015/json/seoul_municipalities_topo.json\", \"format\": {\"feature\": \"seoul_municipalities_geo\", \"type\": \"topojson\"}}, \"mark\": {\"type\": \"geoshape\", \"stroke\": \"#aaa\", \"strokeWidth\": 0.25}, \"encoding\": {\"color\": {\"type\": \"quantitative\", \"field\": \"cctv_rate\", \"legend\": null}, \"tooltip\": [{\"type\": \"nominal\", \"field\": \"\\uc790\\uce58\\uad6c\"}, {\"type\": \"quantitative\", \"field\": \"cctv_rate\", \"format\": \".2%\"}, {\"type\": \"quantitative\", \"field\": \"CCTV_\\uaddc\\ubaa8_2020\", \"format\": \",d\"}, {\"type\": \"quantitative\", \"field\": \"\\uc778\\uad6c_\\uaddc\\ubaa8_2020\", \"format\": \",d\"}]}, \"height\": 300, \"title\": {\"text\": \"CCTV \\uc124\\uce58 \\ube44\\uc728\", \"subtitle\": \"2020\\ub144\"}, \"transform\": [{\"lookup\": \"properties.ESRI_PK\", \"from\": {\"data\": {\"name\": \"data-45ff08f1c85640db9e6eb2564c10a79f\"}, \"key\": \"no\", \"fields\": [\"\\uc790\\uce58\\uad6c\", \"CCTV_\\uaddc\\ubaa8_2020\", \"\\uc778\\uad6c_\\uaddc\\ubaa8_2020\"]}}, {\"calculate\": \"(datum.CCTV_\\uaddc\\ubaa8_2020/datum.\\uc778\\uad6c_\\uaddc\\ubaa8_2020)*100\", \"as\": \"cctv_rate\"}], \"width\": 400}, {\"data\": {\"name\": \"data-d51d564e85e5c2ac393a6a28d0ca2243\"}, \"mark\": \"circle\", \"encoding\": {\"latitude\": {\"field\": \"\\uc704\\ub3c4\", \"type\": \"quantitative\"}, \"longitude\": {\"field\": \"\\uacbd\\ub3c4\", \"type\": \"quantitative\"}, \"size\": {\"value\": 50}, \"tooltip\": {\"type\": \"nominal\", \"field\": \"\\uc790\\uce58\\uad6c\\uccad\"}}, \"height\": 300, \"width\": 400}]}], \"$schema\": \"https://vega.github.io/schema/vega-lite/v4.8.1.json\", \"datasets\": {\"data-45ff08f1c85640db9e6eb2564c10a79f\": [{\"no\": 6, \"id\": 1, \"\\uc790\\uce58\\uad6c\": \"\\uc885\\ub85c\\uad6c\", \"CCTV_\\uaddc\\ubaa8_2015\": 1175, \"CCTV_\\uaddc\\ubaa8_2020\": 1729, \"\\uc778\\uad6c_\\uaddc\\ubaa8_2015\": 163822, \"\\uc778\\uad6c_\\uaddc\\ubaa8_2020\": 158996}, {\"no\": 11, \"id\": 2, \"\\uc790\\uce58\\uad6c\": \"\\uc911\\uad6c\", \"CCTV_\\uaddc\\ubaa8_2015\": 654, \"CCTV_\\uaddc\\ubaa8_2020\": 2001, \"\\uc778\\uad6c_\\uaddc\\ubaa8_2015\": 134329, \"\\uc778\\uad6c_\\uaddc\\ubaa8_2020\": 134635}, {\"no\": 24, \"id\": 3, \"\\uc790\\uce58\\uad6c\": \"\\uc6a9\\uc0b0\\uad6c\", \"CCTV_\\uaddc\\ubaa8_2015\": 685, \"CCTV_\\uaddc\\ubaa8_2020\": 2383, \"\\uc778\\uad6c_\\uaddc\\ubaa8_2015\": 247909, \"\\uc778\\uad6c_\\uaddc\\ubaa8_2020\": 244645}, {\"no\": 20, \"id\": 4, \"\\uc790\\uce58\\uad6c\": \"\\uc131\\ub3d9\\uad6c\", \"CCTV_\\uaddc\\ubaa8_2015\": 1289, \"CCTV_\\uaddc\\ubaa8_2020\": 3515, \"\\uc778\\uad6c_\\uaddc\\ubaa8_2015\": 305065, \"\\uc778\\uad6c_\\uaddc\\ubaa8_2020\": 300505}, {\"no\": 13, \"id\": 5, \"\\uc790\\uce58\\uad6c\": \"\\uad11\\uc9c4\\uad6c\", \"CCTV_\\uaddc\\ubaa8_2015\": 477, \"CCTV_\\uaddc\\ubaa8_2020\": 2556, \"\\uc778\\uad6c_\\uaddc\\ubaa8_2015\": 375180, \"\\uc778\\uad6c_\\uaddc\\ubaa8_2020\": 360109}, {\"no\": 2, \"id\": 6, \"\\uc790\\uce58\\uad6c\": \"\\ub3d9\\ub300\\ubb38\\uad6c\", \"CCTV_\\uaddc\\ubaa8_2015\": 1436, \"CCTV_\\uaddc\\ubaa8_2020\": 2315, \"\\uc778\\uad6c_\\uaddc\\ubaa8_2015\": 373824, \"\\uc778\\uad6c_\\uaddc\\ubaa8_2020\": 357014}, {\"no\": 8, \"id\": 7, \"\\uc790\\uce58\\uad6c\": \"\\uc911\\ub791\\uad6c\", \"CCTV_\\uaddc\\ubaa8_2015\": 821, \"CCTV_\\uaddc\\ubaa8_2020\": 3285, \"\\uc778\\uad6c_\\uaddc\\ubaa8_2015\": 418620, \"\\uc778\\uad6c_\\uaddc\\ubaa8_2020\": 399562}, {\"no\": 17, \"id\": 8, \"\\uc790\\uce58\\uad6c\": \"\\uc131\\ubd81\\uad6c\", \"CCTV_\\uaddc\\ubaa8_2015\": 897, \"CCTV_\\uaddc\\ubaa8_2020\": 3754, \"\\uc778\\uad6c_\\uaddc\\ubaa8_2015\": 469560, \"\\uc778\\uad6c_\\uaddc\\ubaa8_2020\": 447056}, {\"no\": 7, \"id\": 9, \"\\uc790\\uce58\\uad6c\": \"\\uac15\\ubd81\\uad6c\", \"CCTV_\\uaddc\\ubaa8_2015\": 270, \"CCTV_\\uaddc\\ubaa8_2020\": 2462, \"\\uc778\\uad6c_\\uaddc\\ubaa8_2015\": 334426, \"\\uc778\\uad6c_\\uaddc\\ubaa8_2020\": 311569}, {\"no\": 0, \"id\": 10, \"\\uc790\\uce58\\uad6c\": \"\\ub3c4\\ubd09\\uad6c\", \"CCTV_\\uaddc\\ubaa8_2015\": 434, \"CCTV_\\uaddc\\ubaa8_2020\": 1356, \"\\uc778\\uad6c_\\uaddc\\ubaa8_2015\": 353241, \"\\uc778\\uad6c_\\uaddc\\ubaa8_2020\": 327361}, {\"no\": 18, \"id\": 11, \"\\uc790\\uce58\\uad6c\": \"\\ub178\\uc6d0\\uad6c\", \"CCTV_\\uaddc\\ubaa8_2015\": 909, \"CCTV_\\uaddc\\ubaa8_2020\": 2282, \"\\uc778\\uad6c_\\uaddc\\ubaa8_2015\": 578221, \"\\uc778\\uad6c_\\uaddc\\ubaa8_2020\": 527032}, {\"no\": 1, \"id\": 12, \"\\uc790\\uce58\\uad6c\": \"\\uc740\\ud3c9\\uad6c\", \"CCTV_\\uaddc\\ubaa8_2015\": 722, \"CCTV_\\uaddc\\ubaa8_2020\": 3660, \"\\uc778\\uad6c_\\uaddc\\ubaa8_2015\": 502578, \"\\uc778\\uad6c_\\uaddc\\ubaa8_2020\": 484043}, {\"no\": 21, \"id\": 13, \"\\uc790\\uce58\\uad6c\": \"\\uc11c\\ub300\\ubb38\\uad6c\", \"CCTV_\\uaddc\\ubaa8_2015\": 1235, \"CCTV_\\uaddc\\ubaa8_2020\": 2939, \"\\uc778\\uad6c_\\uaddc\\ubaa8_2015\": 323105, \"\\uc778\\uad6c_\\uaddc\\ubaa8_2020\": 322952}, {\"no\": 14, \"id\": 14, \"\\uc790\\uce58\\uad6c\": \"\\ub9c8\\ud3ec\\uad6c\", \"CCTV_\\uaddc\\ubaa8_2015\": 729, \"CCTV_\\uaddc\\ubaa8_2020\": 2401, \"\\uc778\\uad6c_\\uaddc\\ubaa8_2015\": 398351, \"\\uc778\\uad6c_\\uaddc\\ubaa8_2020\": 381858}, {\"no\": 22, \"id\": 15, \"\\uc790\\uce58\\uad6c\": \"\\uc591\\ucc9c\\uad6c\", \"CCTV_\\uaddc\\ubaa8_2015\": 2241, \"CCTV_\\uaddc\\ubaa8_2020\": 3307, \"\\uc778\\uad6c_\\uaddc\\ubaa8_2015\": 489010, \"\\uc778\\uad6c_\\uaddc\\ubaa8_2020\": 457781}, {\"no\": 10, \"id\": 16, \"\\uc790\\uce58\\uad6c\": \"\\uac15\\uc11c\\uad6c\", \"CCTV_\\uaddc\\ubaa8_2015\": 691, \"CCTV_\\uaddc\\ubaa8_2020\": 2437, \"\\uc778\\uad6c_\\uaddc\\ubaa8_2015\": 595691, \"\\uc778\\uad6c_\\uaddc\\ubaa8_2020\": 585901}, {\"no\": 5, \"id\": 17, \"\\uc790\\uce58\\uad6c\": \"\\uad6c\\ub85c\\uad6c\", \"CCTV_\\uaddc\\ubaa8_2015\": 1872, \"CCTV_\\uaddc\\ubaa8_2020\": 4075, \"\\uc778\\uad6c_\\uaddc\\ubaa8_2015\": 454604, \"\\uc778\\uad6c_\\uaddc\\ubaa8_2020\": 432488}, {\"no\": 4, \"id\": 18, \"\\uc790\\uce58\\uad6c\": \"\\uae08\\ucc9c\\uad6c\", \"CCTV_\\uaddc\\ubaa8_2015\": 619, \"CCTV_\\uaddc\\ubaa8_2020\": 2365, \"\\uc778\\uad6c_\\uaddc\\ubaa8_2015\": 256167, \"\\uc778\\uad6c_\\uaddc\\ubaa8_2020\": 247835}, {\"no\": 23, \"id\": 19, \"\\uc790\\uce58\\uad6c\": \"\\uc601\\ub4f1\\ud3ec\\uad6c\", \"CCTV_\\uaddc\\ubaa8_2015\": 1278, \"CCTV_\\uaddc\\ubaa8_2020\": 3773, \"\\uc778\\uad6c_\\uaddc\\ubaa8_2015\": 417811, \"\\uc778\\uad6c_\\uaddc\\ubaa8_2020\": 407367}, {\"no\": 3, \"id\": 20, \"\\uc790\\uce58\\uad6c\": \"\\ub3d9\\uc791\\uad6c\", \"CCTV_\\uaddc\\ubaa8_2015\": 993, \"CCTV_\\uaddc\\ubaa8_2020\": 2262, \"\\uc778\\uad6c_\\uaddc\\ubaa8_2015\": 412774, \"\\uc778\\uad6c_\\uaddc\\ubaa8_2020\": 401572}, {\"no\": 15, \"id\": 21, \"\\uc790\\uce58\\uad6c\": \"\\uad00\\uc545\\uad6c\", \"CCTV_\\uaddc\\ubaa8_2015\": 2004, \"CCTV_\\uaddc\\ubaa8_2020\": 4909, \"\\uc778\\uad6c_\\uaddc\\ubaa8_2015\": 529031, \"\\uc778\\uad6c_\\uaddc\\ubaa8_2020\": 509803}, {\"no\": 16, \"id\": 22, \"\\uc790\\uce58\\uad6c\": \"\\uc11c\\ucd08\\uad6c\", \"CCTV_\\uaddc\\ubaa8_2015\": 916, \"CCTV_\\uaddc\\ubaa8_2020\": 3730, \"\\uc778\\uad6c_\\uaddc\\ubaa8_2015\": 451258, \"\\uc778\\uad6c_\\uaddc\\ubaa8_2020\": 429025}, {\"no\": 9, \"id\": 23, \"\\uc790\\uce58\\uad6c\": \"\\uac15\\ub0a8\\uad6c\", \"CCTV_\\uaddc\\ubaa8_2015\": 1863, \"CCTV_\\uaddc\\ubaa8_2020\": 6645, \"\\uc778\\uad6c_\\uaddc\\ubaa8_2015\": 581760, \"\\uc778\\uad6c_\\uaddc\\ubaa8_2020\": 544055}, {\"no\": 19, \"id\": 24, \"\\uc790\\uce58\\uad6c\": \"\\uc1a1\\ud30c\\uad6c\", \"CCTV_\\uaddc\\ubaa8_2015\": 520, \"CCTV_\\uaddc\\ubaa8_2020\": 2743, \"\\uc778\\uad6c_\\uaddc\\ubaa8_2015\": 667480, \"\\uc778\\uad6c_\\uaddc\\ubaa8_2020\": 673926}, {\"no\": 12, \"id\": 25, \"\\uc790\\uce58\\uad6c\": \"\\uac15\\ub3d9\\uad6c\", \"CCTV_\\uaddc\\ubaa8_2015\": 725, \"CCTV_\\uaddc\\ubaa8_2020\": 2547, \"\\uc778\\uad6c_\\uaddc\\ubaa8_2015\": 463321, \"\\uc778\\uad6c_\\uaddc\\ubaa8_2020\": 463998}], \"data-d51d564e85e5c2ac393a6a28d0ca2243\": [{\"\\uc790\\uce58\\uad6c\": \"\\uc885\\ub85c\\uad6c\", \"\\uc790\\uce58\\uad6c\\uccad\": \"\\uc885\\ub85c\\uad6c\\uccad\", \"\\uc704\\ub3c4\": 37.5727864, \"\\uacbd\\ub3c4\": 126.9791778, \"\\uc8fc\\uc18c\": \"\\ub300\\ud55c\\ubbfc\\uad6d \\uc11c\\uc6b8\\ud2b9\\ubcc4\\uc2dc \\uc885\\ub85c\\uad6c \\uc218\\uc1a1\\ub3d9 \\uc0bc\\ubd09\\ub85c 43\"}, {\"\\uc790\\uce58\\uad6c\": \"\\uc911\\uad6c\", \"\\uc790\\uce58\\uad6c\\uccad\": \"\\uc911\\uad6c\\uccad\", \"\\uc704\\ub3c4\": 37.5637584, \"\\uacbd\\ub3c4\": 126.9975517, \"\\uc8fc\\uc18c\": \"\\ub300\\ud55c\\ubbfc\\uad6d \\uc11c\\uc6b8\\ud2b9\\ubcc4\\uc2dc \\uc911\\uad6c \\uc608\\uad00\\ub3d9 \\ucc3d\\uacbd\\uad81\\ub85c 17\"}, {\"\\uc790\\uce58\\uad6c\": \"\\uc6a9\\uc0b0\\uad6c\", \"\\uc790\\uce58\\uad6c\\uccad\": \"\\uc6a9\\uc0b0\\uad6c\\uccad\", \"\\uc704\\ub3c4\": 37.5325896, \"\\uacbd\\ub3c4\": 126.9900429, \"\\uc8fc\\uc18c\": \"\\ub300\\ud55c\\ubbfc\\uad6d \\uc11c\\uc6b8\\ud2b9\\ubcc4\\uc2dc \\uc6a9\\uc0b0\\uad6c \\uc774\\ud0dc\\uc6d0\\ub3d9 \\ub179\\uc0ac\\ud3c9\\ub300\\ub85c 150\"}, {\"\\uc790\\uce58\\uad6c\": \"\\uc131\\ub3d9\\uad6c\", \"\\uc790\\uce58\\uad6c\\uccad\": \"\\uc131\\ub3d9\\uad6c\\uccad\", \"\\uc704\\ub3c4\": 37.5630725, \"\\uacbd\\ub3c4\": 127.0366688, \"\\uc8fc\\uc18c\": \"\\ub300\\ud55c\\ubbfc\\uad6d \\uc11c\\uc6b8\\ud2b9\\ubcc4\\uc2dc \\uc131\\ub3d9\\uad6c \\ud589\\ub2f9\\ub3d9 \\uace0\\uc0b0\\uc790\\ub85c 270\"}, {\"\\uc790\\uce58\\uad6c\": \"\\uad11\\uc9c4\\uad6c\", \"\\uc790\\uce58\\uad6c\\uccad\": \"\\uad11\\uc9c4\\uad6c\\uccad\", \"\\uc704\\ub3c4\": 37.5385333, \"\\uacbd\\ub3c4\": 127.0823772, \"\\uc8fc\\uc18c\": \"\\ub300\\ud55c\\ubbfc\\uad6d \\uc11c\\uc6b8\\ud2b9\\ubcc4\\uc2dc \\uad11\\uc9c4\\uad6c \\uc790\\uc5911\\ub3d9 \\uc790\\uc591\\ub85c 117\"}, {\"\\uc790\\uce58\\uad6c\": \"\\ub3d9\\ub300\\ubb38\\uad6c\", \"\\uc790\\uce58\\uad6c\\uccad\": \"\\ub3d9\\ub300\\ubb38\\uad6c\\uccad\", \"\\uc704\\ub3c4\": 37.5744155, \"\\uacbd\\ub3c4\": 127.0397427, \"\\uc8fc\\uc18c\": \"\\ub300\\ud55c\\ubbfc\\uad6d \\uc11c\\uc6b8\\ud2b9\\ubcc4\\uc2dc \\ub3d9\\ub300\\ubb38\\uad6c \\uc6a9\\ub450\\ub3d9 \\ucc9c\\ud638\\ub300\\ub85c 145\"}, {\"\\uc790\\uce58\\uad6c\": \"\\uc911\\ub791\\uad6c\", \"\\uc790\\uce58\\uad6c\\uccad\": \"\\uc911\\ub791\\uad6c\\uccad\", \"\\uc704\\ub3c4\": 37.60656, \"\\uacbd\\ub3c4\": 127.092624, \"\\uc8fc\\uc18c\": \"\\ub300\\ud55c\\ubbfc\\uad6d \\uc11c\\uc6b8\\ud2b9\\ubcc4\\uc2dc \\uc911\\ub791\\uad6c \\uc2e0\\ub0b4\\ub3d9 662\"}, {\"\\uc790\\uce58\\uad6c\": \"\\uc131\\ubd81\\uad6c\", \"\\uc790\\uce58\\uad6c\\uccad\": \"\\uc131\\ubd81\\uad6c\\uccad\", \"\\uc704\\ub3c4\": 37.589366, \"\\uacbd\\ub3c4\": 127.016743, \"\\uc8fc\\uc18c\": \"\\ub300\\ud55c\\ubbfc\\uad6d \\uc11c\\uc6b8\\ud2b9\\ubcc4\\uc2dc \\uc131\\ubd81\\uad6c \\uc0bc\\uc120\\ub3d9 \\ubcf4\\ubb38\\ub85c 168\"}, {\"\\uc790\\uce58\\uad6c\": \"\\uac15\\ubd81\\uad6c\", \"\\uc790\\uce58\\uad6c\\uccad\": \"\\uac15\\ubd81\\uad6c\\uccad\", \"\\uc704\\ub3c4\": 37.6397767, \"\\uacbd\\ub3c4\": 127.0255184, \"\\uc8fc\\uc18c\": \"\\ub300\\ud55c\\ubbfc\\uad6d \\uc11c\\uc6b8\\ud2b9\\ubcc4\\uc2dc \\uac15\\ubd81\\uad6c \\uc218\\uc720\\ub3d9 \\ub3c4\\ubd09\\ub85c89\\uae38 13\"}, {\"\\uc790\\uce58\\uad6c\": \"\\ub3c4\\ubd09\\uad6c\", \"\\uc790\\uce58\\uad6c\\uccad\": \"\\ub3c4\\ubd09\\uad6c\\uccad\", \"\\uc704\\ub3c4\": 37.6687735, \"\\uacbd\\ub3c4\": 127.047071, \"\\uc8fc\\uc18c\": \"\\ub300\\ud55c\\ubbfc\\uad6d \\uc11c\\uc6b8\\ud2b9\\ubcc4\\uc2dc \\ub3c4\\ubd09\\uad6c \\ubc29\\ud559\\ub3d9 \\ub9c8\\ub4e4\\ub85c 656\"}, {\"\\uc790\\uce58\\uad6c\": \"\\ub178\\uc6d0\\uad6c\", \"\\uc790\\uce58\\uad6c\\uccad\": \"\\ub178\\uc6d0\\uad6c\\uccad\", \"\\uc704\\ub3c4\": 37.6540471, \"\\uacbd\\ub3c4\": 127.0563372, \"\\uc8fc\\uc18c\": \"\\ub300\\ud55c\\ubbfc\\uad6d \\uc11c\\uc6b8\\ud2b9\\ubcc4\\uc2dc \\ub178\\uc6d0\\uad6c \\uc0c1\\uacc46.7\\ub3d9 \\ub178\\ud574\\ub85c 437\"}, {\"\\uc790\\uce58\\uad6c\": \"\\uc740\\ud3c9\\uad6c\", \"\\uc790\\uce58\\uad6c\\uccad\": \"\\uc740\\ud3c9\\uad6c\\uccad\", \"\\uc704\\ub3c4\": 37.6027496, \"\\uacbd\\ub3c4\": 126.9292386, \"\\uc8fc\\uc18c\": \"\\ub300\\ud55c\\ubbfc\\uad6d \\uc11c\\uc6b8\\ud2b9\\ubcc4\\uc2dc \\uc740\\ud3c9\\uad6c \\ub179\\ubc88\\ub3d9 \\uc740\\ud3c9\\ub85c 195\"}, {\"\\uc790\\uce58\\uad6c\": \"\\uc11c\\ub300\\ubb38\\uad6c\", \"\\uc790\\uce58\\uad6c\\uccad\": \"\\uc11c\\ub300\\ubb38\\uad6c\\uccad\", \"\\uc704\\ub3c4\": 37.5791728, \"\\uacbd\\ub3c4\": 126.9367815, \"\\uc8fc\\uc18c\": \"\\ub300\\ud55c\\ubbfc\\uad6d \\uc11c\\uc6b8\\ud2b9\\ubcc4\\uc2dc \\uc11c\\ub300\\ubb38\\uad6c \\uc5f0\\ud76c\\ub3d9 \\uc5f0\\ud76c\\ub85c 248\"}, {\"\\uc790\\uce58\\uad6c\": \"\\ub9c8\\ud3ec\\uad6c\", \"\\uc790\\uce58\\uad6c\\uccad\": \"\\ub9c8\\ud3ec\\uad6c\\uccad\", \"\\uc704\\ub3c4\": 37.5662001, \"\\uacbd\\ub3c4\": 126.9016437, \"\\uc8fc\\uc18c\": \"\\ub300\\ud55c\\ubbfc\\uad6d \\uc11c\\uc6b8\\ud2b9\\ubcc4\\uc2dc \\ub9c8\\ud3ec\\uad6c \\uc131\\uc0b02\\ub3d9 \\uc6d4\\ub4dc\\ucef5\\ub85c 212\"}, {\"\\uc790\\uce58\\uad6c\": \"\\uc591\\ucc9c\\uad6c\", \"\\uc790\\uce58\\uad6c\\uccad\": \"\\uc591\\ucc9c\\uad6c\\uccad\", \"\\uc704\\ub3c4\": 37.5169508, \"\\uacbd\\ub3c4\": 126.8665644, \"\\uc8fc\\uc18c\": \"\\ub300\\ud55c\\ubbfc\\uad6d \\uc11c\\uc6b8\\ud2b9\\ubcc4\\uc2dc \\uc591\\ucc9c\\uad6c \\uc2e0\\uc8156\\ub3d9 \\ubaa9\\ub3d9\\ub3d9\\ub85c 105\"}, {\"\\uc790\\uce58\\uad6c\": \"\\uac15\\uc11c\\uad6c\", \"\\uc790\\uce58\\uad6c\\uccad\": \"\\uac15\\uc11c\\uad6c\\uccad\", \"\\uc704\\ub3c4\": 37.5509103, \"\\uacbd\\ub3c4\": 126.8495742, \"\\uc8fc\\uc18c\": \"\\ub300\\ud55c\\ubbfc\\uad6d \\uc11c\\uc6b8\\ud2b9\\ubcc4\\uc2dc \\uac15\\uc11c\\uad6c \\ud654\\uace1\\ub3d9 \\ud654\\uace1\\ub85c 302\"}, {\"\\uc790\\uce58\\uad6c\": \"\\uad6c\\ub85c\\uad6c\", \"\\uc790\\uce58\\uad6c\\uccad\": \"\\uad6c\\ub85c\\uad6c\\uccad\", \"\\uc704\\ub3c4\": 37.4954703, \"\\uacbd\\ub3c4\": 126.8876391, \"\\uc8fc\\uc18c\": \"\\ub300\\ud55c\\ubbfc\\uad6d \\uc11c\\uc6b8\\ud2b9\\ubcc4\\uc2dc \\uad6c\\ub85c\\uad6c \\uad6c\\ub85c\\ub3d9 \\uac00\\ub9c8\\uc0b0\\ub85c 245\"}, {\"\\uc790\\uce58\\uad6c\": \"\\uae08\\ucc9c\\uad6c\", \"\\uc790\\uce58\\uad6c\\uccad\": \"\\uae08\\ucc9c\\uad6c\\uccad\", \"\\uc704\\ub3c4\": 37.4518527, \"\\uacbd\\ub3c4\": 126.9020358, \"\\uc8fc\\uc18c\": \"\\ub300\\ud55c\\ubbfc\\uad6d \\uc11c\\uc6b8\\ud2b9\\ubcc4\\uc2dc \\uae08\\ucc9c\\uad6c\"}, {\"\\uc790\\uce58\\uad6c\": \"\\uc601\\ub4f1\\ud3ec\\uad6c\", \"\\uc790\\uce58\\uad6c\\uccad\": \"\\uc601\\ub4f1\\ud3ec\\uad6c\\uccad\", \"\\uc704\\ub3c4\": 37.526344, \"\\uacbd\\ub3c4\": 126.896256, \"\\uc8fc\\uc18c\": \"\\ub300\\ud55c\\ubbfc\\uad6d \\uc11c\\uc6b8\\ud2b9\\ubcc4\\uc2dc \\uc601\\ub4f1\\ud3ec\\uad6c \\ub2f9\\uc0b0\\ub3d93\\uac00 \\ub2f9\\uc0b0\\ub85c 123\"}, {\"\\uc790\\uce58\\uad6c\": \"\\ub3d9\\uc791\\uad6c\", \"\\uc790\\uce58\\uad6c\\uccad\": \"\\ub3d9\\uc791\\uad6c\\uccad\", \"\\uc704\\ub3c4\": 37.5124298, \"\\uacbd\\ub3c4\": 126.9397997, \"\\uc8fc\\uc18c\": \"\\ub300\\ud55c\\ubbfc\\uad6d \\uc11c\\uc6b8\\ud2b9\\ubcc4\\uc2dc \\ub3d9\\uc791\\uad6c \\ub178\\ub7c9\\uc9c42\\ub3d9 \\uc7a5\\uc2b9\\ubc30\\uae30\\ub85c 161\"}, {\"\\uc790\\uce58\\uad6c\": \"\\uad00\\uc545\\uad6c\", \"\\uc790\\uce58\\uad6c\\uccad\": \"\\uad00\\uc545\\uad6c\\uccad\", \"\\uc704\\ub3c4\": 37.4781285, \"\\uacbd\\ub3c4\": 126.9515024, \"\\uc8fc\\uc18c\": \"\\ub300\\ud55c\\ubbfc\\uad6d \\uc11c\\uc6b8\\ud2b9\\ubcc4\\uc2dc \\uad00\\uc545\\uad6c \\uccad\\ub8e1\\ub3d9 \\uad00\\uc545\\ub85c 145\"}, {\"\\uc790\\uce58\\uad6c\": \"\\uc11c\\ucd08\\uad6c\", \"\\uc790\\uce58\\uad6c\\uccad\": \"\\uc11c\\ucd08\\uad6c\\uccad\", \"\\uc704\\ub3c4\": 37.483574, \"\\uacbd\\ub3c4\": 127.032661, \"\\uc8fc\\uc18c\": \"\\ub300\\ud55c\\ubbfc\\uad6d \\uc11c\\uc6b8\\ud2b9\\ubcc4\\uc2dc \\uc11c\\ucd08\\uad6c \\uc11c\\ucd082\\ub3d9 \\ub0a8\\ubd80\\uc21c\\ud658\\ub85c 2584\"}, {\"\\uc790\\uce58\\uad6c\": \"\\uac15\\ub0a8\\uad6c\", \"\\uc790\\uce58\\uad6c\\uccad\": \"\\uac15\\ub0a8\\uad6c\\uccad\", \"\\uc704\\ub3c4\": 37.5172363, \"\\uacbd\\ub3c4\": 127.0473248, \"\\uc8fc\\uc18c\": \"\\ub300\\ud55c\\ubbfc\\uad6d \\uc11c\\uc6b8\\ud2b9\\ubcc4\\uc2dc \\uac15\\ub0a8\\uad6c 426\"}, {\"\\uc790\\uce58\\uad6c\": \"\\uc1a1\\ud30c\\uad6c\", \"\\uc790\\uce58\\uad6c\\uccad\": \"\\uc1a1\\ud30c\\uad6c\\uccad\", \"\\uc704\\ub3c4\": 37.5144161, \"\\uacbd\\ub3c4\": 127.1060657, \"\\uc8fc\\uc18c\": \"\\ub300\\ud55c\\ubbfc\\uad6d \\uc11c\\uc6b8\\ud2b9\\ubcc4\\uc2dc \\uc1a1\\ud30c\\uad6c \\uc2e0\\ucc9c\\ub3d9 \\uc62c\\ub9bc\\ud53d\\ub85c 326\"}, {\"\\uc790\\uce58\\uad6c\": \"\\uac15\\ub3d9\\uad6c\", \"\\uc790\\uce58\\uad6c\\uccad\": \"\\uac15\\ub3d9\\uad6c\\uccad\", \"\\uc704\\ub3c4\": 37.5302554, \"\\uacbd\\ub3c4\": 127.1237961, \"\\uc8fc\\uc18c\": \"\\ub300\\ud55c\\ubbfc\\uad6d \\uc11c\\uc6b8\\ud2b9\\ubcc4\\uc2dc \\uac15\\ub3d9\\uad6c \\uc131\\ub0b4\\ub3d9 \\uc131\\ub0b4\\ub85c 25\"}]}}, {\"mode\": \"vega-lite\"});\n",
              "</script>"
            ],
            "text/plain": [
              "alt.HConcatChart(...)"
            ]
          },
          "execution_count": 12,
          "metadata": {},
          "output_type": "execute_result"
        }
      ],
      "source": [
        "map2015 = alt.Chart(seoul).mark_geoshape(\n",
        "    stroke='#aaa', strokeWidth=0.25\n",
        ").transform_lookup(\n",
        "    lookup = 'properties.ESRI_PK',\n",
        "    from_ = alt.LookupData(data=df, key='no', fields=['자치구', 'CCTV_규모_2015', '인구_규모_2015'])\n",
        ").transform_calculate(\n",
        "    cctv_rate=f'(datum.CCTV_규모_2015/datum.인구_규모_2015)*100'\n",
        ").encode(\n",
        "    color=alt.Color('cctv_rate:Q',legend=None),\n",
        "    tooltip=['자치구:N',\n",
        "             alt.Tooltip('cctv_rate:Q', format='.2%'),\n",
        "             alt.Tooltip('CCTV_규모_2015:Q', format=',d'),\n",
        "             alt.Tooltip('인구_규모_2015:Q', format=',d')]\n",
        ").properties(\n",
        "    title = {\n",
        "        \"text\":\"CCTV 설치 비율\",\n",
        "        \"subtitle\":\"2015년\"\n",
        "    },\n",
        "    width = 400, height = 300\n",
        ")\n",
        "\n",
        "m2015 = map2015 + points\n",
        "\n",
        "map2020 = alt.Chart(seoul).mark_geoshape(\n",
        "    stroke='#aaa', strokeWidth=0.25\n",
        ").transform_lookup(\n",
        "    lookup = 'properties.ESRI_PK',\n",
        "    from_ = alt.LookupData(data=df, key='no', fields=['자치구', 'CCTV_규모_2020', '인구_규모_2020'])\n",
        ").transform_calculate(\n",
        "    cctv_rate=f'(datum.CCTV_규모_2020/datum.인구_규모_2020)*100'\n",
        ").encode(\n",
        "    color=alt.Color('cctv_rate:Q',legend=None),\n",
        "    tooltip=['자치구:N',\n",
        "             alt.Tooltip('cctv_rate:Q', format='.2%'),\n",
        "             alt.Tooltip('CCTV_규모_2020:Q', format=',d'),\n",
        "             alt.Tooltip('인구_규모_2020:Q', format=',d')]\n",
        ").properties(\n",
        "    title = {\n",
        "        \"text\":\"CCTV 설치 비율\",\n",
        "        \"subtitle\":\"2020년\"\n",
        "    },\n",
        "    width = 400, height = 300\n",
        ")\n",
        "\n",
        "m2020 = map2020+points\n",
        "\n",
        "alt.hconcat(m2015, m2020).configure_view(stroke=None)"
      ]
    }
  ],
  "metadata": {
    "interpreter": {
      "hash": "362598f7d0e42e270d614c3ab8a7090827925db9456e736e9535cde3714ef2f0"
    },
    "kernelspec": {
      "display_name": "Python 3 (ipykernel)",
      "language": "python",
      "name": "python3"
    },
    "language_info": {
      "codemirror_mode": {
        "name": "ipython",
        "version": 3
      },
      "file_extension": ".py",
      "mimetype": "text/x-python",
      "name": "python",
      "nbconvert_exporter": "python",
      "pygments_lexer": "ipython3",
      "version": "3.9.7"
    },
    "toc": {
      "base_numbering": 1,
      "nav_menu": {},
      "number_sections": false,
      "sideBar": true,
      "skip_h1_title": false,
      "title_cell": "Table of Contents",
      "title_sidebar": "Contents",
      "toc_cell": false,
      "toc_position": {},
      "toc_section_display": true,
      "toc_window_display": true
    },
    "colab": {
      "provenance": [],
      "collapsed_sections": [],
      "include_colab_link": true
    }
  },
  "nbformat": 4,
  "nbformat_minor": 5
}